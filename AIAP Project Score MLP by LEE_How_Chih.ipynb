{
 "cells": [
  {
   "cell_type": "markdown",
   "metadata": {},
   "source": [
    "# AIAP Project Score MLP for Deployment"
   ]
  },
  {
   "cell_type": "markdown",
   "metadata": {},
   "source": [
    "## We pick the best model to be RF Regressor and we will define our pipeline for deployment using make_pipeline in six stages:\n",
    "\n",
    "(1) Get user input for url of train data, use SQL Lite to retrieve data and pass to dataframe 'df'\n",
    "\n",
    "(2) Create a ColumnTransformer that will transform the data into numerical variables and categorical variables, including ONE-Hot Encoder where required.\n",
    "'number_of_siblings' - num \n",
    "'direct_admission' - cat (boolean: Yes, No)\n",
    "'learning_style' - cat (boolean: Visual, Auditory)\n",
    "'tuition' - cat (boolean: Yes, No)\n",
    "'n_male' - num\n",
    "'n_female' - num\n",
    "'hours_per_week' - num\n",
    "'attendance_rate' - num\n",
    "'CCA_O' - cat (ONE-Hot encoder, drop CCA_A, CCA_S, CCA_C)\n",
    "\n",
    "(3)Perform data preprocessing: \n",
    "- Drop the columns that are not required for model training, leaving 9 features and y variable\n",
    "- Remove NaN values or Impute values where appropriate\n",
    "\n",
    "(4) Scale the data using StandardScaler()\n",
    "\n",
    "(5) Pass through the RF Regressor to train the model \n",
    "\n",
    "(6) Get user input for url of data for prediction. Run the model and get the predicted value for final_test scores. Export final_test scores to csv file on local file_path"
   ]
  },
  {
   "cell_type": "code",
   "execution_count": 1,
   "metadata": {
    "ExecuteTime": {
     "end_time": "2024-02-20T06:28:40.302461Z",
     "start_time": "2024-02-20T06:28:38.102804Z"
    }
   },
   "outputs": [
    {
     "name": "stdout",
     "output_type": "stream",
     "text": [
      "Requirement already satisfied: pipreqs in /Users/hclee/anaconda3/envs/AIAP_Project_Score/lib/python3.8/site-packages (0.5.0)\r\n",
      "Requirement already satisfied: docopt==0.6.2 in /Users/hclee/anaconda3/envs/AIAP_Project_Score/lib/python3.8/site-packages (from pipreqs) (0.6.2)\r\n",
      "Requirement already satisfied: ipython==8.12.3 in /Users/hclee/anaconda3/envs/AIAP_Project_Score/lib/python3.8/site-packages (from pipreqs) (8.12.3)\r\n",
      "Requirement already satisfied: nbconvert<8.0.0,>=7.11.0 in /Users/hclee/anaconda3/envs/AIAP_Project_Score/lib/python3.8/site-packages (from pipreqs) (7.16.1)\r\n",
      "Requirement already satisfied: yarg==0.1.9 in /Users/hclee/anaconda3/envs/AIAP_Project_Score/lib/python3.8/site-packages (from pipreqs) (0.1.9)\r\n",
      "Requirement already satisfied: backcall in /Users/hclee/anaconda3/envs/AIAP_Project_Score/lib/python3.8/site-packages (from ipython==8.12.3->pipreqs) (0.2.0)\r\n",
      "Requirement already satisfied: decorator in /Users/hclee/anaconda3/envs/AIAP_Project_Score/lib/python3.8/site-packages (from ipython==8.12.3->pipreqs) (5.1.1)\r\n",
      "Requirement already satisfied: jedi>=0.16 in /Users/hclee/anaconda3/envs/AIAP_Project_Score/lib/python3.8/site-packages (from ipython==8.12.3->pipreqs) (0.18.1)\r\n",
      "Requirement already satisfied: matplotlib-inline in /Users/hclee/anaconda3/envs/AIAP_Project_Score/lib/python3.8/site-packages (from ipython==8.12.3->pipreqs) (0.1.6)\r\n",
      "Requirement already satisfied: pickleshare in /Users/hclee/anaconda3/envs/AIAP_Project_Score/lib/python3.8/site-packages (from ipython==8.12.3->pipreqs) (0.7.5)\r\n",
      "Requirement already satisfied: prompt-toolkit!=3.0.37,<3.1.0,>=3.0.30 in /Users/hclee/anaconda3/envs/AIAP_Project_Score/lib/python3.8/site-packages (from ipython==8.12.3->pipreqs) (3.0.43)\r\n",
      "Requirement already satisfied: pygments>=2.4.0 in /Users/hclee/anaconda3/envs/AIAP_Project_Score/lib/python3.8/site-packages (from ipython==8.12.3->pipreqs) (2.15.1)\r\n",
      "Requirement already satisfied: stack-data in /Users/hclee/anaconda3/envs/AIAP_Project_Score/lib/python3.8/site-packages (from ipython==8.12.3->pipreqs) (0.2.0)\r\n",
      "Requirement already satisfied: traitlets>=5 in /Users/hclee/anaconda3/envs/AIAP_Project_Score/lib/python3.8/site-packages (from ipython==8.12.3->pipreqs) (5.7.1)\r\n",
      "Requirement already satisfied: typing-extensions in /Users/hclee/anaconda3/envs/AIAP_Project_Score/lib/python3.8/site-packages (from ipython==8.12.3->pipreqs) (4.9.0)\r\n",
      "Requirement already satisfied: pexpect>4.3 in /Users/hclee/anaconda3/envs/AIAP_Project_Score/lib/python3.8/site-packages (from ipython==8.12.3->pipreqs) (4.8.0)\r\n",
      "Requirement already satisfied: appnope in /Users/hclee/anaconda3/envs/AIAP_Project_Score/lib/python3.8/site-packages (from ipython==8.12.3->pipreqs) (0.1.2)\r\n",
      "Requirement already satisfied: requests in /Users/hclee/anaconda3/envs/AIAP_Project_Score/lib/python3.8/site-packages (from yarg==0.1.9->pipreqs) (2.31.0)\r\n",
      "Requirement already satisfied: beautifulsoup4 in /Users/hclee/anaconda3/envs/AIAP_Project_Score/lib/python3.8/site-packages (from nbconvert<8.0.0,>=7.11.0->pipreqs) (4.12.2)\r\n",
      "Requirement already satisfied: bleach!=5.0.0 in /Users/hclee/anaconda3/envs/AIAP_Project_Score/lib/python3.8/site-packages (from nbconvert<8.0.0,>=7.11.0->pipreqs) (4.1.0)\r\n",
      "Requirement already satisfied: defusedxml in /Users/hclee/anaconda3/envs/AIAP_Project_Score/lib/python3.8/site-packages (from nbconvert<8.0.0,>=7.11.0->pipreqs) (0.7.1)\r\n",
      "Requirement already satisfied: importlib-metadata>=3.6 in /Users/hclee/anaconda3/envs/AIAP_Project_Score/lib/python3.8/site-packages (from nbconvert<8.0.0,>=7.11.0->pipreqs) (7.0.1)\r\n",
      "Requirement already satisfied: jinja2>=3.0 in /Users/hclee/anaconda3/envs/AIAP_Project_Score/lib/python3.8/site-packages (from nbconvert<8.0.0,>=7.11.0->pipreqs) (3.1.3)\r\n",
      "Requirement already satisfied: jupyter-core>=4.7 in /Users/hclee/anaconda3/envs/AIAP_Project_Score/lib/python3.8/site-packages (from nbconvert<8.0.0,>=7.11.0->pipreqs) (5.5.0)\r\n",
      "Requirement already satisfied: jupyterlab-pygments in /Users/hclee/anaconda3/envs/AIAP_Project_Score/lib/python3.8/site-packages (from nbconvert<8.0.0,>=7.11.0->pipreqs) (0.1.2)\r\n",
      "Requirement already satisfied: markupsafe>=2.0 in /Users/hclee/anaconda3/envs/AIAP_Project_Score/lib/python3.8/site-packages (from nbconvert<8.0.0,>=7.11.0->pipreqs) (2.1.3)\r\n",
      "Requirement already satisfied: mistune<4,>=2.0.3 in /Users/hclee/anaconda3/envs/AIAP_Project_Score/lib/python3.8/site-packages (from nbconvert<8.0.0,>=7.11.0->pipreqs) (2.0.4)\r\n",
      "Requirement already satisfied: nbclient>=0.5.0 in /Users/hclee/anaconda3/envs/AIAP_Project_Score/lib/python3.8/site-packages (from nbconvert<8.0.0,>=7.11.0->pipreqs) (0.8.0)\r\n",
      "Requirement already satisfied: nbformat>=5.7 in /Users/hclee/anaconda3/envs/AIAP_Project_Score/lib/python3.8/site-packages (from nbconvert<8.0.0,>=7.11.0->pipreqs) (5.9.2)\r\n",
      "Requirement already satisfied: packaging in /Users/hclee/anaconda3/envs/AIAP_Project_Score/lib/python3.8/site-packages (from nbconvert<8.0.0,>=7.11.0->pipreqs) (23.1)\r\n",
      "Requirement already satisfied: pandocfilters>=1.4.1 in /Users/hclee/anaconda3/envs/AIAP_Project_Score/lib/python3.8/site-packages (from nbconvert<8.0.0,>=7.11.0->pipreqs) (1.5.0)\r\n",
      "Requirement already satisfied: tinycss2 in /Users/hclee/anaconda3/envs/AIAP_Project_Score/lib/python3.8/site-packages (from nbconvert<8.0.0,>=7.11.0->pipreqs) (1.2.1)\r\n",
      "Requirement already satisfied: six>=1.9.0 in /Users/hclee/anaconda3/envs/AIAP_Project_Score/lib/python3.8/site-packages (from bleach!=5.0.0->nbconvert<8.0.0,>=7.11.0->pipreqs) (1.16.0)\r\n",
      "Requirement already satisfied: webencodings in /Users/hclee/anaconda3/envs/AIAP_Project_Score/lib/python3.8/site-packages (from bleach!=5.0.0->nbconvert<8.0.0,>=7.11.0->pipreqs) (0.5.1)\r\n",
      "Requirement already satisfied: zipp>=0.5 in /Users/hclee/anaconda3/envs/AIAP_Project_Score/lib/python3.8/site-packages (from importlib-metadata>=3.6->nbconvert<8.0.0,>=7.11.0->pipreqs) (3.17.0)\r\n",
      "Requirement already satisfied: parso<0.9.0,>=0.8.0 in /Users/hclee/anaconda3/envs/AIAP_Project_Score/lib/python3.8/site-packages (from jedi>=0.16->ipython==8.12.3->pipreqs) (0.8.3)\r\n",
      "Requirement already satisfied: platformdirs>=2.5 in /Users/hclee/anaconda3/envs/AIAP_Project_Score/lib/python3.8/site-packages (from jupyter-core>=4.7->nbconvert<8.0.0,>=7.11.0->pipreqs) (3.10.0)\r\n",
      "Requirement already satisfied: jupyter-client>=6.1.12 in /Users/hclee/anaconda3/envs/AIAP_Project_Score/lib/python3.8/site-packages (from nbclient>=0.5.0->nbconvert<8.0.0,>=7.11.0->pipreqs) (8.6.0)\r\n",
      "Requirement already satisfied: fastjsonschema in /Users/hclee/anaconda3/envs/AIAP_Project_Score/lib/python3.8/site-packages (from nbformat>=5.7->nbconvert<8.0.0,>=7.11.0->pipreqs) (2.16.2)\r\n",
      "Requirement already satisfied: jsonschema>=2.6 in /Users/hclee/anaconda3/envs/AIAP_Project_Score/lib/python3.8/site-packages (from nbformat>=5.7->nbconvert<8.0.0,>=7.11.0->pipreqs) (4.19.2)\r\n",
      "Requirement already satisfied: ptyprocess>=0.5 in /Users/hclee/anaconda3/envs/AIAP_Project_Score/lib/python3.8/site-packages (from pexpect>4.3->ipython==8.12.3->pipreqs) (0.7.0)\r\n",
      "Requirement already satisfied: wcwidth in /Users/hclee/anaconda3/envs/AIAP_Project_Score/lib/python3.8/site-packages (from prompt-toolkit!=3.0.37,<3.1.0,>=3.0.30->ipython==8.12.3->pipreqs) (0.2.5)\r\n",
      "Requirement already satisfied: soupsieve>1.2 in /Users/hclee/anaconda3/envs/AIAP_Project_Score/lib/python3.8/site-packages (from beautifulsoup4->nbconvert<8.0.0,>=7.11.0->pipreqs) (2.5)\r\n",
      "Requirement already satisfied: charset-normalizer<4,>=2 in /Users/hclee/anaconda3/envs/AIAP_Project_Score/lib/python3.8/site-packages (from requests->yarg==0.1.9->pipreqs) (2.0.4)\r\n",
      "Requirement already satisfied: idna<4,>=2.5 in /Users/hclee/anaconda3/envs/AIAP_Project_Score/lib/python3.8/site-packages (from requests->yarg==0.1.9->pipreqs) (3.4)\r\n",
      "Requirement already satisfied: urllib3<3,>=1.21.1 in /Users/hclee/anaconda3/envs/AIAP_Project_Score/lib/python3.8/site-packages (from requests->yarg==0.1.9->pipreqs) (2.1.0)\r\n",
      "Requirement already satisfied: certifi>=2017.4.17 in /Users/hclee/anaconda3/envs/AIAP_Project_Score/lib/python3.8/site-packages (from requests->yarg==0.1.9->pipreqs) (2024.2.2)\r\n",
      "Requirement already satisfied: executing in /Users/hclee/anaconda3/envs/AIAP_Project_Score/lib/python3.8/site-packages (from stack-data->ipython==8.12.3->pipreqs) (0.8.3)\r\n",
      "Requirement already satisfied: asttokens in /Users/hclee/anaconda3/envs/AIAP_Project_Score/lib/python3.8/site-packages (from stack-data->ipython==8.12.3->pipreqs) (2.0.5)\r\n",
      "Requirement already satisfied: pure-eval in /Users/hclee/anaconda3/envs/AIAP_Project_Score/lib/python3.8/site-packages (from stack-data->ipython==8.12.3->pipreqs) (0.2.2)\r\n",
      "Requirement already satisfied: attrs>=22.2.0 in /Users/hclee/anaconda3/envs/AIAP_Project_Score/lib/python3.8/site-packages (from jsonschema>=2.6->nbformat>=5.7->nbconvert<8.0.0,>=7.11.0->pipreqs) (23.1.0)\r\n",
      "Requirement already satisfied: importlib-resources>=1.4.0 in /Users/hclee/anaconda3/envs/AIAP_Project_Score/lib/python3.8/site-packages (from jsonschema>=2.6->nbformat>=5.7->nbconvert<8.0.0,>=7.11.0->pipreqs) (6.1.1)\r\n",
      "Requirement already satisfied: jsonschema-specifications>=2023.03.6 in /Users/hclee/anaconda3/envs/AIAP_Project_Score/lib/python3.8/site-packages (from jsonschema>=2.6->nbformat>=5.7->nbconvert<8.0.0,>=7.11.0->pipreqs) (2023.7.1)\r\n",
      "Requirement already satisfied: pkgutil-resolve-name>=1.3.10 in /Users/hclee/anaconda3/envs/AIAP_Project_Score/lib/python3.8/site-packages (from jsonschema>=2.6->nbformat>=5.7->nbconvert<8.0.0,>=7.11.0->pipreqs) (1.3.10)\r\n",
      "Requirement already satisfied: referencing>=0.28.4 in /Users/hclee/anaconda3/envs/AIAP_Project_Score/lib/python3.8/site-packages (from jsonschema>=2.6->nbformat>=5.7->nbconvert<8.0.0,>=7.11.0->pipreqs) (0.30.2)\r\n",
      "Requirement already satisfied: rpds-py>=0.7.1 in /Users/hclee/anaconda3/envs/AIAP_Project_Score/lib/python3.8/site-packages (from jsonschema>=2.6->nbformat>=5.7->nbconvert<8.0.0,>=7.11.0->pipreqs) (0.10.6)\r\n",
      "Requirement already satisfied: python-dateutil>=2.8.2 in /Users/hclee/anaconda3/envs/AIAP_Project_Score/lib/python3.8/site-packages (from jupyter-client>=6.1.12->nbclient>=0.5.0->nbconvert<8.0.0,>=7.11.0->pipreqs) (2.8.2)\r\n",
      "Requirement already satisfied: pyzmq>=23.0 in /Users/hclee/anaconda3/envs/AIAP_Project_Score/lib/python3.8/site-packages (from jupyter-client>=6.1.12->nbclient>=0.5.0->nbconvert<8.0.0,>=7.11.0->pipreqs) (25.1.2)\r\n",
      "Requirement already satisfied: tornado>=6.2 in /Users/hclee/anaconda3/envs/AIAP_Project_Score/lib/python3.8/site-packages (from jupyter-client>=6.1.12->nbclient>=0.5.0->nbconvert<8.0.0,>=7.11.0->pipreqs) (6.3.3)\r\n"
     ]
    }
   ],
   "source": [
    "\n",
    "!pip install pipreqs\n",
    "\n"
   ]
  },
  {
   "cell_type": "code",
   "execution_count": 2,
   "metadata": {
    "ExecuteTime": {
     "end_time": "2024-02-19T13:15:46.195591Z",
     "start_time": "2024-02-19T13:15:46.189865Z"
    }
   },
   "outputs": [],
   "source": [
    "# pip freeze > requirements.txt  ## or go to Terminal and find dir using cd, type pipreqs.  \n",
    "## Requirements.txt will autogenerate and save in the same folder\n"
   ]
  },
  {
   "cell_type": "code",
   "execution_count": 28,
   "metadata": {
    "ExecuteTime": {
     "end_time": "2024-02-20T06:34:03.268629Z",
     "start_time": "2024-02-20T06:34:01.502181Z"
    }
   },
   "outputs": [
    {
     "name": "stdout",
     "output_type": "stream",
     "text": [
      "Requirement already satisfied: category_encoders in /Users/hclee/anaconda3/envs/AIAP_Project_Score/lib/python3.8/site-packages (2.6.3)\r\n",
      "Requirement already satisfied: numpy>=1.14.0 in /Users/hclee/anaconda3/envs/AIAP_Project_Score/lib/python3.8/site-packages (from category_encoders) (1.24.3)\r\n",
      "Requirement already satisfied: scikit-learn>=0.20.0 in /Users/hclee/anaconda3/envs/AIAP_Project_Score/lib/python3.8/site-packages (from category_encoders) (1.3.0)\r\n",
      "Requirement already satisfied: scipy>=1.0.0 in /Users/hclee/anaconda3/envs/AIAP_Project_Score/lib/python3.8/site-packages (from category_encoders) (1.10.1)\r\n",
      "Requirement already satisfied: statsmodels>=0.9.0 in /Users/hclee/anaconda3/envs/AIAP_Project_Score/lib/python3.8/site-packages (from category_encoders) (0.13.5)\r\n",
      "Requirement already satisfied: pandas>=1.0.5 in /Users/hclee/anaconda3/envs/AIAP_Project_Score/lib/python3.8/site-packages (from category_encoders) (2.0.3)\r\n",
      "Requirement already satisfied: patsy>=0.5.1 in /Users/hclee/anaconda3/envs/AIAP_Project_Score/lib/python3.8/site-packages (from category_encoders) (0.5.3)\r\n",
      "Requirement already satisfied: importlib-resources in /Users/hclee/anaconda3/envs/AIAP_Project_Score/lib/python3.8/site-packages (from category_encoders) (6.1.1)\r\n",
      "Requirement already satisfied: python-dateutil>=2.8.2 in /Users/hclee/anaconda3/envs/AIAP_Project_Score/lib/python3.8/site-packages (from pandas>=1.0.5->category_encoders) (2.8.2)\r\n",
      "Requirement already satisfied: pytz>=2020.1 in /Users/hclee/anaconda3/envs/AIAP_Project_Score/lib/python3.8/site-packages (from pandas>=1.0.5->category_encoders) (2023.3.post1)\r\n",
      "Requirement already satisfied: tzdata>=2022.1 in /Users/hclee/anaconda3/envs/AIAP_Project_Score/lib/python3.8/site-packages (from pandas>=1.0.5->category_encoders) (2023.3)\r\n",
      "Requirement already satisfied: six in /Users/hclee/anaconda3/envs/AIAP_Project_Score/lib/python3.8/site-packages (from patsy>=0.5.1->category_encoders) (1.16.0)\r\n",
      "Requirement already satisfied: joblib>=1.1.1 in /Users/hclee/anaconda3/envs/AIAP_Project_Score/lib/python3.8/site-packages (from scikit-learn>=0.20.0->category_encoders) (1.2.0)\r\n",
      "Requirement already satisfied: threadpoolctl>=2.0.0 in /Users/hclee/anaconda3/envs/AIAP_Project_Score/lib/python3.8/site-packages (from scikit-learn>=0.20.0->category_encoders) (2.2.0)\r\n",
      "Requirement already satisfied: packaging>=21.3 in /Users/hclee/anaconda3/envs/AIAP_Project_Score/lib/python3.8/site-packages (from statsmodels>=0.9.0->category_encoders) (23.1)\r\n",
      "Requirement already satisfied: zipp>=3.1.0 in /Users/hclee/anaconda3/envs/AIAP_Project_Score/lib/python3.8/site-packages (from importlib-resources->category_encoders) (3.17.0)\r\n"
     ]
    }
   ],
   "source": [
    "# basic\n",
    "\n",
    "import numpy as np\n",
    "import pandas as pd\n",
    "import datetime as dt\n",
    "\n",
    "import math\n",
    "from enum import Enum\n",
    "from scipy import stats\n",
    "from scipy.stats import norm\n",
    "import statsmodels.api as sm\n",
    "\n",
    "# mute warnings\n",
    "import warnings\n",
    "warnings.filterwarnings(\"ignore\")\n",
    "\n",
    "# scikit-learn\n",
    "from sklearn import metrics\n",
    "from sklearn import preprocessing\n",
    "from sklearn.compose import ColumnTransformer\n",
    "from sklearn.impute import SimpleImputer\n",
    "from sklearn.preprocessing import StandardScaler\n",
    "from sklearn.pipeline import Pipeline\n",
    "from sklearn.pipeline import make_pipeline\n",
    "\n",
    "# import category encoders\n",
    "!pip install category_encoders\n",
    "import category_encoders as ce\n",
    "\n",
    "# ML Algo\n",
    "from sklearn import svm\n",
    "from sklearn.linear_model import LogisticRegression\n",
    "from sklearn.tree import DecisionTreeClassifier\n",
    "from sklearn.linear_model import LinearRegression\n",
    "from sklearn.ensemble import  RandomForestRegressor\n",
    "\n",
    "# SQL Lite\n",
    "import sqlite3\n",
    "import requests\n",
    "import sqlalchemy\n",
    "\n"
   ]
  },
  {
   "cell_type": "code",
   "execution_count": 29,
   "metadata": {
    "ExecuteTime": {
     "end_time": "2024-02-20T06:34:04.712576Z",
     "start_time": "2024-02-20T06:34:04.697285Z"
    }
   },
   "outputs": [],
   "source": [
    "# pip freeze > requirements.txt"
   ]
  },
  {
   "cell_type": "code",
   "outputs": [
    {
     "name": "stdout",
     "output_type": "stream",
     "text": [
      "train_url https://techassessment.blob.core.windows.net/aiap-preparatory-bootcamp/score.db\n",
      "predict_url https://techassessment.blob.core.windows.net/aiap-preparatory-bootcamp/score.db\n",
      "file_path C:\\...prediction.csv\n"
     ]
    }
   ],
   "source": [
    "from configparser import ConfigParser\n",
    "config = ConfigParser()\n",
    "config.read(\"config.ini\")\n",
    "\n",
    "import configparser\n",
    "\n",
    "def read_config_file(file_path):\n",
    "    config = configparser.ConfigParser()\n",
    "    config.read(file_path)\n",
    "    return config\n",
    "\n",
    "if __name__ == \"__main__\":\n",
    "    config_file_path = \"config.ini\"\n",
    "    config = read_config_file(config_file_path)\n",
    "\n",
    "    # Access configuration settings\n",
    "    train_url = config.get(\"DEFAULT\", \"train_url\")\n",
    "    predict_url = config.get(\"DEFAULT\", \"predict_url\")\n",
    "    file_path = config.get(\"DEFAULT\", \"file_path\")\n",
    "\n",
    "    print(\"train_url\", train_url)\n",
    "    print(\"predict_url\", predict_url)\n",
    "    print(\"file_path\", file_path)\n",
    "\n",
    "\n"
   ],
   "metadata": {
    "collapsed": false,
    "ExecuteTime": {
     "end_time": "2024-02-20T06:34:05.357938Z",
     "start_time": "2024-02-20T06:34:05.336383Z"
    }
   },
   "execution_count": 30
  },
  {
   "cell_type": "code",
   "execution_count": 31,
   "metadata": {
    "ExecuteTime": {
     "end_time": "2024-02-20T06:34:15.033804Z",
     "start_time": "2024-02-20T06:34:14.536847Z"
    }
   },
   "outputs": [
    {
     "name": "stdout",
     "output_type": "stream",
     "text": [
      "You entered: https://techassessment.blob.core.windows.net/aiap-preparatory-bootcamp/score.db\n",
      "Table Name: score\n",
      "       index  number_of_siblings direct_admission     CCA learning_style  \\\n",
      "0          0                   0              Yes  Sports         Visual   \n",
      "1          1                   2               No  Sports       Auditory   \n",
      "2          2                   0              Yes    None         Visual   \n",
      "4          4                   0               No  Sports       Auditory   \n",
      "5          5                   0               No    Arts         Visual   \n",
      "...      ...                 ...              ...     ...            ...   \n",
      "15895  15895                   1               No   Clubs         Visual   \n",
      "15896  15896                   1              Yes    None       Auditory   \n",
      "15897  15897                   1              Yes  Sports       Auditory   \n",
      "15898  15898                   1               No   Clubs         Visual   \n",
      "15899  15899                   2              Yes    None         Visual   \n",
      "\n",
      "      student_id  gender tuition  final_test  n_male  n_female   age  \\\n",
      "0         ACN2BE  Female      No        69.0    14.0       2.0  16.0   \n",
      "1         FGXIIZ  Female      No        47.0     4.0      19.0  16.0   \n",
      "2         B9AI9F    Male      No        85.0    14.0       2.0  15.0   \n",
      "4         AXZN2E    Male      No        66.0    24.0       3.0  16.0   \n",
      "5         BA6R14  Female      No        57.0     9.0      12.0  15.0   \n",
      "...          ...     ...     ...         ...     ...       ...   ...   \n",
      "15895     XPECN2  Female      No        56.0    12.0      14.0  16.0   \n",
      "15896     7AMC7S    Male     Yes        85.0    17.0       5.0  16.0   \n",
      "15897     XKZ6VN  Female     Yes        76.0     7.0      10.0  15.0   \n",
      "15898     2OU4UQ    Male     Yes        45.0    18.0      12.0  16.0   \n",
      "15899     D9OKLV    Male      No        87.0    11.0       7.0  16.0   \n",
      "\n",
      "       hours_per_week  attendance_rate sleep_time wake_time  \\\n",
      "0                10.0             91.0      22:00      6:00   \n",
      "1                 7.0             94.0      22:30      6:30   \n",
      "2                 8.0             92.0      22:30      6:30   \n",
      "4                 7.0             95.0      21:30      5:30   \n",
      "5                11.0             96.0      22:30      6:30   \n",
      "...               ...              ...        ...       ...   \n",
      "15895             9.0             96.0      22:00      6:00   \n",
      "15896             7.0             91.0      22:30      6:30   \n",
      "15897             7.0             93.0      23:00      7:00   \n",
      "15898             3.0             94.0      23:00      7:00   \n",
      "15899             9.0             91.0      23:00      7:00   \n",
      "\n",
      "       mode_of_transport bag_color  \n",
      "0      private transport    yellow  \n",
      "1      private transport     green  \n",
      "2      private transport     white  \n",
      "4       public transport    yellow  \n",
      "5      private transport       red  \n",
      "...                  ...       ...  \n",
      "15895  private transport     black  \n",
      "15896  private transport     white  \n",
      "15897               walk       red  \n",
      "15898               walk    yellow  \n",
      "15899               walk    yellow  \n",
      "\n",
      "[13885 rows x 18 columns]\n"
     ]
    }
   ],
   "source": [
    "# Ask User for URL to data file and fetch data from URL\n",
    "# https://techassessment.blob.core.windows.net/aiap-preparatory-bootcamp/score.db\n",
    "\n",
    "def get_url_from_user():\n",
    "    \"\"\"\n",
    "    Function to ask the user to input a URL.\n",
    "    \n",
    "    Returns:\n",
    "    url (str): The URL inputted by the user.\n",
    "    \"\"\"\n",
    "    url = train_url # input(\"Please enter the URL to your Training Data: \")\n",
    "    return url\n",
    "\n",
    "# Example usage:\n",
    "if __name__ == \"__main__\":\n",
    "    user_url = get_url_from_user()\n",
    "    print(\"You entered:\", user_url)\n",
    "    \n",
    "    response = requests.get(user_url)\n",
    "    score_data = sqlite3.connect('score.db')\n",
    "    ## table name is known\n",
    "    db_name = \"score.db\"\n",
    "    table_name = \"score\"  ## insert table name\n",
    "    engine = sqlalchemy.create_engine('sqlite:///%s'% db_name, execution_options={\"sqlite_raw_colnames\":True})\n",
    "    print(\"Table Name:\", table_name)\n",
    "    df = pd.DataFrame()\n",
    "    df = pd.read_sql_table(table_name, engine)\n",
    "    df = df.dropna()\n",
    "    df = df.drop_duplicates(subset='student_id')\n",
    "    df.columns = [str(col) for col in df.columns]\n",
    "\n",
    "    print(df)\n",
    "\n"
   ]
  },
  {
   "cell_type": "code",
   "execution_count": 32,
   "metadata": {
    "ExecuteTime": {
     "end_time": "2024-02-20T06:34:15.349329Z",
     "start_time": "2024-02-20T06:34:15.272048Z"
    }
   },
   "outputs": [
    {
     "data": {
      "text/plain": "       index  number_of_siblings direct_admission     CCA learning_style  \\\n0          0                   0              Yes  Sports         Visual   \n1          1                   2               No  Sports       Auditory   \n2          2                   0              Yes    None         Visual   \n4          4                   0               No  Sports       Auditory   \n5          5                   0               No    Arts         Visual   \n...      ...                 ...              ...     ...            ...   \n15895  15895                   1               No   Clubs         Visual   \n15896  15896                   1              Yes    None       Auditory   \n15897  15897                   1              Yes  Sports       Auditory   \n15898  15898                   1               No   Clubs         Visual   \n15899  15899                   2              Yes    None         Visual   \n\n      student_id  gender tuition  final_test  n_male  n_female   age  \\\n0         ACN2BE  Female      No        69.0    14.0       2.0  16.0   \n1         FGXIIZ  Female      No        47.0     4.0      19.0  16.0   \n2         B9AI9F    Male      No        85.0    14.0       2.0  15.0   \n4         AXZN2E    Male      No        66.0    24.0       3.0  16.0   \n5         BA6R14  Female      No        57.0     9.0      12.0  15.0   \n...          ...     ...     ...         ...     ...       ...   ...   \n15895     XPECN2  Female      No        56.0    12.0      14.0  16.0   \n15896     7AMC7S    Male     Yes        85.0    17.0       5.0  16.0   \n15897     XKZ6VN  Female     Yes        76.0     7.0      10.0  15.0   \n15898     2OU4UQ    Male     Yes        45.0    18.0      12.0  16.0   \n15899     D9OKLV    Male      No        87.0    11.0       7.0  16.0   \n\n       hours_per_week  attendance_rate sleep_time wake_time  \\\n0                10.0             91.0      22:00      6:00   \n1                 7.0             94.0      22:30      6:30   \n2                 8.0             92.0      22:30      6:30   \n4                 7.0             95.0      21:30      5:30   \n5                11.0             96.0      22:30      6:30   \n...               ...              ...        ...       ...   \n15895             9.0             96.0      22:00      6:00   \n15896             7.0             91.0      22:30      6:30   \n15897             7.0             93.0      23:00      7:00   \n15898             3.0             94.0      23:00      7:00   \n15899             9.0             91.0      23:00      7:00   \n\n       mode_of_transport bag_color  \n0      private transport    yellow  \n1      private transport     green  \n2      private transport     white  \n4       public transport    yellow  \n5      private transport       red  \n...                  ...       ...  \n15895  private transport     black  \n15896  private transport     white  \n15897               walk       red  \n15898               walk    yellow  \n15899               walk    yellow  \n\n[13885 rows x 18 columns]",
      "text/html": "<div>\n<style scoped>\n    .dataframe tbody tr th:only-of-type {\n        vertical-align: middle;\n    }\n\n    .dataframe tbody tr th {\n        vertical-align: top;\n    }\n\n    .dataframe thead th {\n        text-align: right;\n    }\n</style>\n<table border=\"1\" class=\"dataframe\">\n  <thead>\n    <tr style=\"text-align: right;\">\n      <th></th>\n      <th>index</th>\n      <th>number_of_siblings</th>\n      <th>direct_admission</th>\n      <th>CCA</th>\n      <th>learning_style</th>\n      <th>student_id</th>\n      <th>gender</th>\n      <th>tuition</th>\n      <th>final_test</th>\n      <th>n_male</th>\n      <th>n_female</th>\n      <th>age</th>\n      <th>hours_per_week</th>\n      <th>attendance_rate</th>\n      <th>sleep_time</th>\n      <th>wake_time</th>\n      <th>mode_of_transport</th>\n      <th>bag_color</th>\n    </tr>\n  </thead>\n  <tbody>\n    <tr>\n      <th>0</th>\n      <td>0</td>\n      <td>0</td>\n      <td>Yes</td>\n      <td>Sports</td>\n      <td>Visual</td>\n      <td>ACN2BE</td>\n      <td>Female</td>\n      <td>No</td>\n      <td>69.0</td>\n      <td>14.0</td>\n      <td>2.0</td>\n      <td>16.0</td>\n      <td>10.0</td>\n      <td>91.0</td>\n      <td>22:00</td>\n      <td>6:00</td>\n      <td>private transport</td>\n      <td>yellow</td>\n    </tr>\n    <tr>\n      <th>1</th>\n      <td>1</td>\n      <td>2</td>\n      <td>No</td>\n      <td>Sports</td>\n      <td>Auditory</td>\n      <td>FGXIIZ</td>\n      <td>Female</td>\n      <td>No</td>\n      <td>47.0</td>\n      <td>4.0</td>\n      <td>19.0</td>\n      <td>16.0</td>\n      <td>7.0</td>\n      <td>94.0</td>\n      <td>22:30</td>\n      <td>6:30</td>\n      <td>private transport</td>\n      <td>green</td>\n    </tr>\n    <tr>\n      <th>2</th>\n      <td>2</td>\n      <td>0</td>\n      <td>Yes</td>\n      <td>None</td>\n      <td>Visual</td>\n      <td>B9AI9F</td>\n      <td>Male</td>\n      <td>No</td>\n      <td>85.0</td>\n      <td>14.0</td>\n      <td>2.0</td>\n      <td>15.0</td>\n      <td>8.0</td>\n      <td>92.0</td>\n      <td>22:30</td>\n      <td>6:30</td>\n      <td>private transport</td>\n      <td>white</td>\n    </tr>\n    <tr>\n      <th>4</th>\n      <td>4</td>\n      <td>0</td>\n      <td>No</td>\n      <td>Sports</td>\n      <td>Auditory</td>\n      <td>AXZN2E</td>\n      <td>Male</td>\n      <td>No</td>\n      <td>66.0</td>\n      <td>24.0</td>\n      <td>3.0</td>\n      <td>16.0</td>\n      <td>7.0</td>\n      <td>95.0</td>\n      <td>21:30</td>\n      <td>5:30</td>\n      <td>public transport</td>\n      <td>yellow</td>\n    </tr>\n    <tr>\n      <th>5</th>\n      <td>5</td>\n      <td>0</td>\n      <td>No</td>\n      <td>Arts</td>\n      <td>Visual</td>\n      <td>BA6R14</td>\n      <td>Female</td>\n      <td>No</td>\n      <td>57.0</td>\n      <td>9.0</td>\n      <td>12.0</td>\n      <td>15.0</td>\n      <td>11.0</td>\n      <td>96.0</td>\n      <td>22:30</td>\n      <td>6:30</td>\n      <td>private transport</td>\n      <td>red</td>\n    </tr>\n    <tr>\n      <th>...</th>\n      <td>...</td>\n      <td>...</td>\n      <td>...</td>\n      <td>...</td>\n      <td>...</td>\n      <td>...</td>\n      <td>...</td>\n      <td>...</td>\n      <td>...</td>\n      <td>...</td>\n      <td>...</td>\n      <td>...</td>\n      <td>...</td>\n      <td>...</td>\n      <td>...</td>\n      <td>...</td>\n      <td>...</td>\n      <td>...</td>\n    </tr>\n    <tr>\n      <th>15895</th>\n      <td>15895</td>\n      <td>1</td>\n      <td>No</td>\n      <td>Clubs</td>\n      <td>Visual</td>\n      <td>XPECN2</td>\n      <td>Female</td>\n      <td>No</td>\n      <td>56.0</td>\n      <td>12.0</td>\n      <td>14.0</td>\n      <td>16.0</td>\n      <td>9.0</td>\n      <td>96.0</td>\n      <td>22:00</td>\n      <td>6:00</td>\n      <td>private transport</td>\n      <td>black</td>\n    </tr>\n    <tr>\n      <th>15896</th>\n      <td>15896</td>\n      <td>1</td>\n      <td>Yes</td>\n      <td>None</td>\n      <td>Auditory</td>\n      <td>7AMC7S</td>\n      <td>Male</td>\n      <td>Yes</td>\n      <td>85.0</td>\n      <td>17.0</td>\n      <td>5.0</td>\n      <td>16.0</td>\n      <td>7.0</td>\n      <td>91.0</td>\n      <td>22:30</td>\n      <td>6:30</td>\n      <td>private transport</td>\n      <td>white</td>\n    </tr>\n    <tr>\n      <th>15897</th>\n      <td>15897</td>\n      <td>1</td>\n      <td>Yes</td>\n      <td>Sports</td>\n      <td>Auditory</td>\n      <td>XKZ6VN</td>\n      <td>Female</td>\n      <td>Yes</td>\n      <td>76.0</td>\n      <td>7.0</td>\n      <td>10.0</td>\n      <td>15.0</td>\n      <td>7.0</td>\n      <td>93.0</td>\n      <td>23:00</td>\n      <td>7:00</td>\n      <td>walk</td>\n      <td>red</td>\n    </tr>\n    <tr>\n      <th>15898</th>\n      <td>15898</td>\n      <td>1</td>\n      <td>No</td>\n      <td>Clubs</td>\n      <td>Visual</td>\n      <td>2OU4UQ</td>\n      <td>Male</td>\n      <td>Yes</td>\n      <td>45.0</td>\n      <td>18.0</td>\n      <td>12.0</td>\n      <td>16.0</td>\n      <td>3.0</td>\n      <td>94.0</td>\n      <td>23:00</td>\n      <td>7:00</td>\n      <td>walk</td>\n      <td>yellow</td>\n    </tr>\n    <tr>\n      <th>15899</th>\n      <td>15899</td>\n      <td>2</td>\n      <td>Yes</td>\n      <td>None</td>\n      <td>Visual</td>\n      <td>D9OKLV</td>\n      <td>Male</td>\n      <td>No</td>\n      <td>87.0</td>\n      <td>11.0</td>\n      <td>7.0</td>\n      <td>16.0</td>\n      <td>9.0</td>\n      <td>91.0</td>\n      <td>23:00</td>\n      <td>7:00</td>\n      <td>walk</td>\n      <td>yellow</td>\n    </tr>\n  </tbody>\n</table>\n<p>13885 rows × 18 columns</p>\n</div>"
     },
     "execution_count": 32,
     "metadata": {},
     "output_type": "execute_result"
    }
   ],
   "source": [
    "# Load df\n",
    "\n",
    "df"
   ]
  },
  {
   "cell_type": "code",
   "execution_count": 33,
   "metadata": {
    "ExecuteTime": {
     "end_time": "2024-02-20T06:34:15.964958Z",
     "start_time": "2024-02-20T06:34:15.853961Z"
    }
   },
   "outputs": [
    {
     "data": {
      "text/plain": "       index  number_of_siblings direct_admission     CCA learning_style  \\\n0          0                   0              Yes  Sports         Visual   \n1          1                   2               No  Sports       Auditory   \n2          2                   0              Yes    None         Visual   \n4          4                   0               No  Sports       Auditory   \n5          5                   0               No    Arts         Visual   \n...      ...                 ...              ...     ...            ...   \n15895  15895                   1               No   Clubs         Visual   \n15896  15896                   1              Yes    None       Auditory   \n15897  15897                   1              Yes  Sports       Auditory   \n15898  15898                   1               No   Clubs         Visual   \n15899  15899                   2              Yes    None         Visual   \n\n      student_id  gender tuition  n_male  n_female   age  hours_per_week  \\\n0         ACN2BE  Female      No    14.0       2.0  16.0            10.0   \n1         FGXIIZ  Female      No     4.0      19.0  16.0             7.0   \n2         B9AI9F    Male      No    14.0       2.0  15.0             8.0   \n4         AXZN2E    Male      No    24.0       3.0  16.0             7.0   \n5         BA6R14  Female      No     9.0      12.0  15.0            11.0   \n...          ...     ...     ...     ...       ...   ...             ...   \n15895     XPECN2  Female      No    12.0      14.0  16.0             9.0   \n15896     7AMC7S    Male     Yes    17.0       5.0  16.0             7.0   \n15897     XKZ6VN  Female     Yes     7.0      10.0  15.0             7.0   \n15898     2OU4UQ    Male     Yes    18.0      12.0  16.0             3.0   \n15899     D9OKLV    Male      No    11.0       7.0  16.0             9.0   \n\n       attendance_rate sleep_time wake_time  mode_of_transport bag_color  \\\n0                 91.0      22:00      6:00  private transport    yellow   \n1                 94.0      22:30      6:30  private transport     green   \n2                 92.0      22:30      6:30  private transport     white   \n4                 95.0      21:30      5:30   public transport    yellow   \n5                 96.0      22:30      6:30  private transport       red   \n...                ...        ...       ...                ...       ...   \n15895             96.0      22:00      6:00  private transport     black   \n15896             91.0      22:30      6:30  private transport     white   \n15897             93.0      23:00      7:00               walk       red   \n15898             94.0      23:00      7:00               walk    yellow   \n15899             91.0      23:00      7:00               walk    yellow   \n\n       final_test  \n0            69.0  \n1            47.0  \n2            85.0  \n4            66.0  \n5            57.0  \n...           ...  \n15895        56.0  \n15896        85.0  \n15897        76.0  \n15898        45.0  \n15899        87.0  \n\n[13885 rows x 18 columns]",
      "text/html": "<div>\n<style scoped>\n    .dataframe tbody tr th:only-of-type {\n        vertical-align: middle;\n    }\n\n    .dataframe tbody tr th {\n        vertical-align: top;\n    }\n\n    .dataframe thead th {\n        text-align: right;\n    }\n</style>\n<table border=\"1\" class=\"dataframe\">\n  <thead>\n    <tr style=\"text-align: right;\">\n      <th></th>\n      <th>index</th>\n      <th>number_of_siblings</th>\n      <th>direct_admission</th>\n      <th>CCA</th>\n      <th>learning_style</th>\n      <th>student_id</th>\n      <th>gender</th>\n      <th>tuition</th>\n      <th>n_male</th>\n      <th>n_female</th>\n      <th>age</th>\n      <th>hours_per_week</th>\n      <th>attendance_rate</th>\n      <th>sleep_time</th>\n      <th>wake_time</th>\n      <th>mode_of_transport</th>\n      <th>bag_color</th>\n      <th>final_test</th>\n    </tr>\n  </thead>\n  <tbody>\n    <tr>\n      <th>0</th>\n      <td>0</td>\n      <td>0</td>\n      <td>Yes</td>\n      <td>Sports</td>\n      <td>Visual</td>\n      <td>ACN2BE</td>\n      <td>Female</td>\n      <td>No</td>\n      <td>14.0</td>\n      <td>2.0</td>\n      <td>16.0</td>\n      <td>10.0</td>\n      <td>91.0</td>\n      <td>22:00</td>\n      <td>6:00</td>\n      <td>private transport</td>\n      <td>yellow</td>\n      <td>69.0</td>\n    </tr>\n    <tr>\n      <th>1</th>\n      <td>1</td>\n      <td>2</td>\n      <td>No</td>\n      <td>Sports</td>\n      <td>Auditory</td>\n      <td>FGXIIZ</td>\n      <td>Female</td>\n      <td>No</td>\n      <td>4.0</td>\n      <td>19.0</td>\n      <td>16.0</td>\n      <td>7.0</td>\n      <td>94.0</td>\n      <td>22:30</td>\n      <td>6:30</td>\n      <td>private transport</td>\n      <td>green</td>\n      <td>47.0</td>\n    </tr>\n    <tr>\n      <th>2</th>\n      <td>2</td>\n      <td>0</td>\n      <td>Yes</td>\n      <td>None</td>\n      <td>Visual</td>\n      <td>B9AI9F</td>\n      <td>Male</td>\n      <td>No</td>\n      <td>14.0</td>\n      <td>2.0</td>\n      <td>15.0</td>\n      <td>8.0</td>\n      <td>92.0</td>\n      <td>22:30</td>\n      <td>6:30</td>\n      <td>private transport</td>\n      <td>white</td>\n      <td>85.0</td>\n    </tr>\n    <tr>\n      <th>4</th>\n      <td>4</td>\n      <td>0</td>\n      <td>No</td>\n      <td>Sports</td>\n      <td>Auditory</td>\n      <td>AXZN2E</td>\n      <td>Male</td>\n      <td>No</td>\n      <td>24.0</td>\n      <td>3.0</td>\n      <td>16.0</td>\n      <td>7.0</td>\n      <td>95.0</td>\n      <td>21:30</td>\n      <td>5:30</td>\n      <td>public transport</td>\n      <td>yellow</td>\n      <td>66.0</td>\n    </tr>\n    <tr>\n      <th>5</th>\n      <td>5</td>\n      <td>0</td>\n      <td>No</td>\n      <td>Arts</td>\n      <td>Visual</td>\n      <td>BA6R14</td>\n      <td>Female</td>\n      <td>No</td>\n      <td>9.0</td>\n      <td>12.0</td>\n      <td>15.0</td>\n      <td>11.0</td>\n      <td>96.0</td>\n      <td>22:30</td>\n      <td>6:30</td>\n      <td>private transport</td>\n      <td>red</td>\n      <td>57.0</td>\n    </tr>\n    <tr>\n      <th>...</th>\n      <td>...</td>\n      <td>...</td>\n      <td>...</td>\n      <td>...</td>\n      <td>...</td>\n      <td>...</td>\n      <td>...</td>\n      <td>...</td>\n      <td>...</td>\n      <td>...</td>\n      <td>...</td>\n      <td>...</td>\n      <td>...</td>\n      <td>...</td>\n      <td>...</td>\n      <td>...</td>\n      <td>...</td>\n      <td>...</td>\n    </tr>\n    <tr>\n      <th>15895</th>\n      <td>15895</td>\n      <td>1</td>\n      <td>No</td>\n      <td>Clubs</td>\n      <td>Visual</td>\n      <td>XPECN2</td>\n      <td>Female</td>\n      <td>No</td>\n      <td>12.0</td>\n      <td>14.0</td>\n      <td>16.0</td>\n      <td>9.0</td>\n      <td>96.0</td>\n      <td>22:00</td>\n      <td>6:00</td>\n      <td>private transport</td>\n      <td>black</td>\n      <td>56.0</td>\n    </tr>\n    <tr>\n      <th>15896</th>\n      <td>15896</td>\n      <td>1</td>\n      <td>Yes</td>\n      <td>None</td>\n      <td>Auditory</td>\n      <td>7AMC7S</td>\n      <td>Male</td>\n      <td>Yes</td>\n      <td>17.0</td>\n      <td>5.0</td>\n      <td>16.0</td>\n      <td>7.0</td>\n      <td>91.0</td>\n      <td>22:30</td>\n      <td>6:30</td>\n      <td>private transport</td>\n      <td>white</td>\n      <td>85.0</td>\n    </tr>\n    <tr>\n      <th>15897</th>\n      <td>15897</td>\n      <td>1</td>\n      <td>Yes</td>\n      <td>Sports</td>\n      <td>Auditory</td>\n      <td>XKZ6VN</td>\n      <td>Female</td>\n      <td>Yes</td>\n      <td>7.0</td>\n      <td>10.0</td>\n      <td>15.0</td>\n      <td>7.0</td>\n      <td>93.0</td>\n      <td>23:00</td>\n      <td>7:00</td>\n      <td>walk</td>\n      <td>red</td>\n      <td>76.0</td>\n    </tr>\n    <tr>\n      <th>15898</th>\n      <td>15898</td>\n      <td>1</td>\n      <td>No</td>\n      <td>Clubs</td>\n      <td>Visual</td>\n      <td>2OU4UQ</td>\n      <td>Male</td>\n      <td>Yes</td>\n      <td>18.0</td>\n      <td>12.0</td>\n      <td>16.0</td>\n      <td>3.0</td>\n      <td>94.0</td>\n      <td>23:00</td>\n      <td>7:00</td>\n      <td>walk</td>\n      <td>yellow</td>\n      <td>45.0</td>\n    </tr>\n    <tr>\n      <th>15899</th>\n      <td>15899</td>\n      <td>2</td>\n      <td>Yes</td>\n      <td>None</td>\n      <td>Visual</td>\n      <td>D9OKLV</td>\n      <td>Male</td>\n      <td>No</td>\n      <td>11.0</td>\n      <td>7.0</td>\n      <td>16.0</td>\n      <td>9.0</td>\n      <td>91.0</td>\n      <td>23:00</td>\n      <td>7:00</td>\n      <td>walk</td>\n      <td>yellow</td>\n      <td>87.0</td>\n    </tr>\n  </tbody>\n</table>\n<p>13885 rows × 18 columns</p>\n</div>"
     },
     "execution_count": 33,
     "metadata": {},
     "output_type": "execute_result"
    }
   ],
   "source": [
    "# There are now 19 columns , including dummies. Move column 'final_test' to the end\n",
    "df = df[[col for col in df if col != 'final_test'] + ['final_test']]\n",
    "df"
   ]
  },
  {
   "cell_type": "code",
   "execution_count": 34,
   "metadata": {
    "ExecuteTime": {
     "end_time": "2024-02-20T06:34:16.551252Z",
     "start_time": "2024-02-20T06:34:16.460718Z"
    }
   },
   "outputs": [
    {
     "name": "stdout",
     "output_type": "stream",
     "text": [
      "Train set: (11108, 17) (11108, 1)\n",
      "Test set: (2777, 17) (2777, 1)\n"
     ]
    }
   ],
   "source": [
    "## Apply Train-test split to data\n",
    "from sklearn.model_selection import train_test_split\n",
    "X = pd.DataFrame()\n",
    "X = df.iloc[ : , :-1]\n",
    "y = pd.DataFrame()\n",
    "y = df.iloc[ : , -1:]\n",
    "X_train, X_test, y_train, y_test = train_test_split(X, y, test_size=0.2, random_state=4)\n",
    "print ('Train set:', X_train.shape,  y_train.shape)\n",
    "print ('Test set:', X_test.shape,  y_test.shape)"
   ]
  },
  {
   "cell_type": "code",
   "execution_count": 35,
   "metadata": {
    "ExecuteTime": {
     "end_time": "2024-02-20T06:34:16.806871Z",
     "start_time": "2024-02-20T06:34:16.737447Z"
    }
   },
   "outputs": [
    {
     "data": {
      "text/plain": "       index  number_of_siblings direct_admission     CCA learning_style  \\\n12953  12953                   1               No  SPORTS       Auditory   \n7209    7209                   2               No  Sports       Auditory   \n2446    2446                   0              Yes   Clubs         Visual   \n7189    7189                   0               No  Sports         Visual   \n2996    2996                   1               No    Arts         Visual   \n...      ...                 ...              ...     ...            ...   \n6666    6666                   0               No    Arts         Visual   \n751      751                   1              Yes   Clubs       Auditory   \n12085  12085                   0               No    Arts       Auditory   \n9377    9377                   0               No   Clubs       Auditory   \n1226    1226                   1               No    Arts       Auditory   \n\n      student_id  gender tuition  n_male  n_female   age  hours_per_week  \\\n12953     ND2A2E  Female     Yes    17.0      11.0  15.0            19.0   \n7209      2C4PV1    Male     Yes    14.0       4.0  16.0            11.0   \n2446      V6EAW3  Female     Yes     4.0      12.0  15.0             8.0   \n7189      UHFPEM    Male     Yes    15.0      10.0  15.0            10.0   \n2996      O2VTM5    Male      No    21.0       9.0  15.0             6.0   \n...          ...     ...     ...     ...       ...   ...             ...   \n6666      AR6YN0    Male     Yes    27.0       1.0   6.0            11.0   \n751       ZF4NK4  Female     Yes     1.0      16.0  15.0             4.0   \n12085     UCPBMW  Female     Yes     3.0      19.0   5.0             8.0   \n9377      RS04X5    Male     Yes    10.0      11.0  15.0            14.0   \n1226      Y8UJXV    Male      No    18.0      13.0   6.0            13.0   \n\n       attendance_rate sleep_time wake_time  mode_of_transport bag_color  \n12953             92.0      23:00      7:00               walk       red  \n7209              91.0      22:30      6:30  private transport      blue  \n2446              97.0      22:00      6:00  private transport     black  \n7189              99.0      22:00      6:00  private transport      blue  \n2996              95.0      21:30      5:30   public transport       red  \n...                ...        ...       ...                ...       ...  \n6666              93.0      21:00      5:00   public transport    yellow  \n751               91.0      22:00      6:00  private transport     green  \n12085             91.0      21:00      5:00   public transport       red  \n9377             100.0      23:00      7:00               walk     green  \n1226             100.0      22:00      6:00  private transport     black  \n\n[11108 rows x 17 columns]",
      "text/html": "<div>\n<style scoped>\n    .dataframe tbody tr th:only-of-type {\n        vertical-align: middle;\n    }\n\n    .dataframe tbody tr th {\n        vertical-align: top;\n    }\n\n    .dataframe thead th {\n        text-align: right;\n    }\n</style>\n<table border=\"1\" class=\"dataframe\">\n  <thead>\n    <tr style=\"text-align: right;\">\n      <th></th>\n      <th>index</th>\n      <th>number_of_siblings</th>\n      <th>direct_admission</th>\n      <th>CCA</th>\n      <th>learning_style</th>\n      <th>student_id</th>\n      <th>gender</th>\n      <th>tuition</th>\n      <th>n_male</th>\n      <th>n_female</th>\n      <th>age</th>\n      <th>hours_per_week</th>\n      <th>attendance_rate</th>\n      <th>sleep_time</th>\n      <th>wake_time</th>\n      <th>mode_of_transport</th>\n      <th>bag_color</th>\n    </tr>\n  </thead>\n  <tbody>\n    <tr>\n      <th>12953</th>\n      <td>12953</td>\n      <td>1</td>\n      <td>No</td>\n      <td>SPORTS</td>\n      <td>Auditory</td>\n      <td>ND2A2E</td>\n      <td>Female</td>\n      <td>Yes</td>\n      <td>17.0</td>\n      <td>11.0</td>\n      <td>15.0</td>\n      <td>19.0</td>\n      <td>92.0</td>\n      <td>23:00</td>\n      <td>7:00</td>\n      <td>walk</td>\n      <td>red</td>\n    </tr>\n    <tr>\n      <th>7209</th>\n      <td>7209</td>\n      <td>2</td>\n      <td>No</td>\n      <td>Sports</td>\n      <td>Auditory</td>\n      <td>2C4PV1</td>\n      <td>Male</td>\n      <td>Yes</td>\n      <td>14.0</td>\n      <td>4.0</td>\n      <td>16.0</td>\n      <td>11.0</td>\n      <td>91.0</td>\n      <td>22:30</td>\n      <td>6:30</td>\n      <td>private transport</td>\n      <td>blue</td>\n    </tr>\n    <tr>\n      <th>2446</th>\n      <td>2446</td>\n      <td>0</td>\n      <td>Yes</td>\n      <td>Clubs</td>\n      <td>Visual</td>\n      <td>V6EAW3</td>\n      <td>Female</td>\n      <td>Yes</td>\n      <td>4.0</td>\n      <td>12.0</td>\n      <td>15.0</td>\n      <td>8.0</td>\n      <td>97.0</td>\n      <td>22:00</td>\n      <td>6:00</td>\n      <td>private transport</td>\n      <td>black</td>\n    </tr>\n    <tr>\n      <th>7189</th>\n      <td>7189</td>\n      <td>0</td>\n      <td>No</td>\n      <td>Sports</td>\n      <td>Visual</td>\n      <td>UHFPEM</td>\n      <td>Male</td>\n      <td>Yes</td>\n      <td>15.0</td>\n      <td>10.0</td>\n      <td>15.0</td>\n      <td>10.0</td>\n      <td>99.0</td>\n      <td>22:00</td>\n      <td>6:00</td>\n      <td>private transport</td>\n      <td>blue</td>\n    </tr>\n    <tr>\n      <th>2996</th>\n      <td>2996</td>\n      <td>1</td>\n      <td>No</td>\n      <td>Arts</td>\n      <td>Visual</td>\n      <td>O2VTM5</td>\n      <td>Male</td>\n      <td>No</td>\n      <td>21.0</td>\n      <td>9.0</td>\n      <td>15.0</td>\n      <td>6.0</td>\n      <td>95.0</td>\n      <td>21:30</td>\n      <td>5:30</td>\n      <td>public transport</td>\n      <td>red</td>\n    </tr>\n    <tr>\n      <th>...</th>\n      <td>...</td>\n      <td>...</td>\n      <td>...</td>\n      <td>...</td>\n      <td>...</td>\n      <td>...</td>\n      <td>...</td>\n      <td>...</td>\n      <td>...</td>\n      <td>...</td>\n      <td>...</td>\n      <td>...</td>\n      <td>...</td>\n      <td>...</td>\n      <td>...</td>\n      <td>...</td>\n      <td>...</td>\n    </tr>\n    <tr>\n      <th>6666</th>\n      <td>6666</td>\n      <td>0</td>\n      <td>No</td>\n      <td>Arts</td>\n      <td>Visual</td>\n      <td>AR6YN0</td>\n      <td>Male</td>\n      <td>Yes</td>\n      <td>27.0</td>\n      <td>1.0</td>\n      <td>6.0</td>\n      <td>11.0</td>\n      <td>93.0</td>\n      <td>21:00</td>\n      <td>5:00</td>\n      <td>public transport</td>\n      <td>yellow</td>\n    </tr>\n    <tr>\n      <th>751</th>\n      <td>751</td>\n      <td>1</td>\n      <td>Yes</td>\n      <td>Clubs</td>\n      <td>Auditory</td>\n      <td>ZF4NK4</td>\n      <td>Female</td>\n      <td>Yes</td>\n      <td>1.0</td>\n      <td>16.0</td>\n      <td>15.0</td>\n      <td>4.0</td>\n      <td>91.0</td>\n      <td>22:00</td>\n      <td>6:00</td>\n      <td>private transport</td>\n      <td>green</td>\n    </tr>\n    <tr>\n      <th>12085</th>\n      <td>12085</td>\n      <td>0</td>\n      <td>No</td>\n      <td>Arts</td>\n      <td>Auditory</td>\n      <td>UCPBMW</td>\n      <td>Female</td>\n      <td>Yes</td>\n      <td>3.0</td>\n      <td>19.0</td>\n      <td>5.0</td>\n      <td>8.0</td>\n      <td>91.0</td>\n      <td>21:00</td>\n      <td>5:00</td>\n      <td>public transport</td>\n      <td>red</td>\n    </tr>\n    <tr>\n      <th>9377</th>\n      <td>9377</td>\n      <td>0</td>\n      <td>No</td>\n      <td>Clubs</td>\n      <td>Auditory</td>\n      <td>RS04X5</td>\n      <td>Male</td>\n      <td>Yes</td>\n      <td>10.0</td>\n      <td>11.0</td>\n      <td>15.0</td>\n      <td>14.0</td>\n      <td>100.0</td>\n      <td>23:00</td>\n      <td>7:00</td>\n      <td>walk</td>\n      <td>green</td>\n    </tr>\n    <tr>\n      <th>1226</th>\n      <td>1226</td>\n      <td>1</td>\n      <td>No</td>\n      <td>Arts</td>\n      <td>Auditory</td>\n      <td>Y8UJXV</td>\n      <td>Male</td>\n      <td>No</td>\n      <td>18.0</td>\n      <td>13.0</td>\n      <td>6.0</td>\n      <td>13.0</td>\n      <td>100.0</td>\n      <td>22:00</td>\n      <td>6:00</td>\n      <td>private transport</td>\n      <td>black</td>\n    </tr>\n  </tbody>\n</table>\n<p>11108 rows × 17 columns</p>\n</div>"
     },
     "execution_count": 35,
     "metadata": {},
     "output_type": "execute_result"
    }
   ],
   "source": [
    "X_train"
   ]
  },
  {
   "cell_type": "code",
   "execution_count": 36,
   "metadata": {
    "ExecuteTime": {
     "end_time": "2024-02-20T06:34:17.191199Z",
     "start_time": "2024-02-20T06:34:17.078141Z"
    }
   },
   "outputs": [
    {
     "data": {
      "text/plain": "       final_test\n12953        58.0\n7209         55.0\n2446         81.0\n7189         96.0\n2996         47.0\n...           ...\n6666         73.0\n751          76.0\n12085        90.0\n9377         75.0\n1226         51.0\n\n[11108 rows x 1 columns]",
      "text/html": "<div>\n<style scoped>\n    .dataframe tbody tr th:only-of-type {\n        vertical-align: middle;\n    }\n\n    .dataframe tbody tr th {\n        vertical-align: top;\n    }\n\n    .dataframe thead th {\n        text-align: right;\n    }\n</style>\n<table border=\"1\" class=\"dataframe\">\n  <thead>\n    <tr style=\"text-align: right;\">\n      <th></th>\n      <th>final_test</th>\n    </tr>\n  </thead>\n  <tbody>\n    <tr>\n      <th>12953</th>\n      <td>58.0</td>\n    </tr>\n    <tr>\n      <th>7209</th>\n      <td>55.0</td>\n    </tr>\n    <tr>\n      <th>2446</th>\n      <td>81.0</td>\n    </tr>\n    <tr>\n      <th>7189</th>\n      <td>96.0</td>\n    </tr>\n    <tr>\n      <th>2996</th>\n      <td>47.0</td>\n    </tr>\n    <tr>\n      <th>...</th>\n      <td>...</td>\n    </tr>\n    <tr>\n      <th>6666</th>\n      <td>73.0</td>\n    </tr>\n    <tr>\n      <th>751</th>\n      <td>76.0</td>\n    </tr>\n    <tr>\n      <th>12085</th>\n      <td>90.0</td>\n    </tr>\n    <tr>\n      <th>9377</th>\n      <td>75.0</td>\n    </tr>\n    <tr>\n      <th>1226</th>\n      <td>51.0</td>\n    </tr>\n  </tbody>\n</table>\n<p>11108 rows × 1 columns</p>\n</div>"
     },
     "execution_count": 36,
     "metadata": {},
     "output_type": "execute_result"
    }
   ],
   "source": [
    "y_train"
   ]
  },
  {
   "cell_type": "code",
   "execution_count": 37,
   "metadata": {
    "ExecuteTime": {
     "end_time": "2024-02-20T06:34:17.585068Z",
     "start_time": "2024-02-20T06:34:17.472827Z"
    }
   },
   "outputs": [],
   "source": [
    "## import BaseEstimator. Grid Search and Pipelines: BaseEstimator is crucial for functionalities like grid search (GridSearchCV) and pipelines (Pipeline). Grid search uses get_params() to explore a range of hyperparameters, while pipelines rely on fit() and predict() to chain together multiple estimators.\n",
    "\n",
    "from sklearn.base import BaseEstimator\n",
    "\n",
    "## create class CCAEncoder to apply ONE_Hot Encoder to CCA = None\n",
    "\n",
    "class CCAEncoder(BaseEstimator):\n",
    "\n",
    "    def __init__(self):\n",
    "        pass\n",
    "\n",
    "    def fit(self, documents, y=None):\n",
    "        return self\n",
    "\n",
    "    def transform(self, df):\n",
    "        df['CCA_O'] = (df['CCA'] == 'None')*1\n",
    "        df['learning_style_visual'] = (df['learning_style'] == 'Visual')*1\n",
    "        df['tuition_Yes'] = (df['tuition'] == 'Yes')*1\n",
    "        df['direct'] = (df['direct_admission'] == 'Yes')*1\n",
    "\n",
    "        return df\n"
   ]
  },
  {
   "cell_type": "code",
   "execution_count": 38,
   "metadata": {
    "ExecuteTime": {
     "end_time": "2024-02-20T06:34:17.791671Z",
     "start_time": "2024-02-20T06:34:17.781519Z"
    }
   },
   "outputs": [],
   "source": [
    "## Where necessary, impute NaN values with strategy='mean' or 'most frequent' or others\n",
    "from sklearn.impute import SimpleImputer\n",
    "imputer = SimpleImputer(strategy='mean')\n",
    "\n"
   ]
  },
  {
   "cell_type": "code",
   "execution_count": 39,
   "metadata": {
    "ExecuteTime": {
     "end_time": "2024-02-20T06:34:18.489296Z",
     "start_time": "2024-02-20T06:34:18.478712Z"
    }
   },
   "outputs": [],
   "source": [
    "# custom transformer must have methods fit and transform\n",
    "# Scale the data in the column Item_MRP\n",
    "pre_process = ColumnTransformer(remainder='passthrough',\n",
    "                                transformers=[('drop_columns', 'drop', ['sleep_time',\n",
    "                                                                        'wake_time',\n",
    "                                                                        'gender',\n",
    "                                                                        'student_id',\n",
    "                                                                        'age',\n",
    "                                                                        'tuition',\n",
    "                                                                        'direct_admission',\n",
    "                                                                        'learning_style',\n",
    "                                                                        'mode_of_transport',\n",
    "                                                                        'CCA',\n",
    "                                                                        'bag_color'])])\n",
    "                                           \n"
   ]
  },
  {
   "cell_type": "code",
   "execution_count": 40,
   "metadata": {
    "ExecuteTime": {
     "end_time": "2024-02-20T06:34:19.181965Z",
     "start_time": "2024-02-20T06:34:19.168865Z"
    }
   },
   "outputs": [],
   "source": [
    "model_pipe = make_pipeline(\n",
    "    CCAEncoder(), # One_Hot Encoder for CCA = None\n",
    "    pre_process,\n",
    "    StandardScaler(),\n",
    "    RandomForestRegressor(max_depth=10)\n",
    ")\n"
   ]
  },
  {
   "cell_type": "code",
   "execution_count": 41,
   "metadata": {
    "ExecuteTime": {
     "end_time": "2024-02-20T06:34:19.699152Z",
     "start_time": "2024-02-20T06:34:19.683541Z"
    }
   },
   "outputs": [
    {
     "data": {
      "text/plain": "Pipeline(steps=[('ccaencoder', CCAEncoder()),\n                ('columntransformer',\n                 ColumnTransformer(remainder='passthrough',\n                                   transformers=[('drop_columns', 'drop',\n                                                  ['sleep_time', 'wake_time',\n                                                   'gender', 'student_id',\n                                                   'age', 'tuition',\n                                                   'direct_admission',\n                                                   'learning_style',\n                                                   'mode_of_transport', 'CCA',\n                                                   'bag_color'])])),\n                ('standardscaler', StandardScaler()),\n                ('randomforestregressor', RandomForestRegressor(max_depth=10))])",
      "text/html": "<style>#sk-container-id-4 {color: black;}#sk-container-id-4 pre{padding: 0;}#sk-container-id-4 div.sk-toggleable {background-color: white;}#sk-container-id-4 label.sk-toggleable__label {cursor: pointer;display: block;width: 100%;margin-bottom: 0;padding: 0.3em;box-sizing: border-box;text-align: center;}#sk-container-id-4 label.sk-toggleable__label-arrow:before {content: \"▸\";float: left;margin-right: 0.25em;color: #696969;}#sk-container-id-4 label.sk-toggleable__label-arrow:hover:before {color: black;}#sk-container-id-4 div.sk-estimator:hover label.sk-toggleable__label-arrow:before {color: black;}#sk-container-id-4 div.sk-toggleable__content {max-height: 0;max-width: 0;overflow: hidden;text-align: left;background-color: #f0f8ff;}#sk-container-id-4 div.sk-toggleable__content pre {margin: 0.2em;color: black;border-radius: 0.25em;background-color: #f0f8ff;}#sk-container-id-4 input.sk-toggleable__control:checked~div.sk-toggleable__content {max-height: 200px;max-width: 100%;overflow: auto;}#sk-container-id-4 input.sk-toggleable__control:checked~label.sk-toggleable__label-arrow:before {content: \"▾\";}#sk-container-id-4 div.sk-estimator input.sk-toggleable__control:checked~label.sk-toggleable__label {background-color: #d4ebff;}#sk-container-id-4 div.sk-label input.sk-toggleable__control:checked~label.sk-toggleable__label {background-color: #d4ebff;}#sk-container-id-4 input.sk-hidden--visually {border: 0;clip: rect(1px 1px 1px 1px);clip: rect(1px, 1px, 1px, 1px);height: 1px;margin: -1px;overflow: hidden;padding: 0;position: absolute;width: 1px;}#sk-container-id-4 div.sk-estimator {font-family: monospace;background-color: #f0f8ff;border: 1px dotted black;border-radius: 0.25em;box-sizing: border-box;margin-bottom: 0.5em;}#sk-container-id-4 div.sk-estimator:hover {background-color: #d4ebff;}#sk-container-id-4 div.sk-parallel-item::after {content: \"\";width: 100%;border-bottom: 1px solid gray;flex-grow: 1;}#sk-container-id-4 div.sk-label:hover label.sk-toggleable__label {background-color: #d4ebff;}#sk-container-id-4 div.sk-serial::before {content: \"\";position: absolute;border-left: 1px solid gray;box-sizing: border-box;top: 0;bottom: 0;left: 50%;z-index: 0;}#sk-container-id-4 div.sk-serial {display: flex;flex-direction: column;align-items: center;background-color: white;padding-right: 0.2em;padding-left: 0.2em;position: relative;}#sk-container-id-4 div.sk-item {position: relative;z-index: 1;}#sk-container-id-4 div.sk-parallel {display: flex;align-items: stretch;justify-content: center;background-color: white;position: relative;}#sk-container-id-4 div.sk-item::before, #sk-container-id-4 div.sk-parallel-item::before {content: \"\";position: absolute;border-left: 1px solid gray;box-sizing: border-box;top: 0;bottom: 0;left: 50%;z-index: -1;}#sk-container-id-4 div.sk-parallel-item {display: flex;flex-direction: column;z-index: 1;position: relative;background-color: white;}#sk-container-id-4 div.sk-parallel-item:first-child::after {align-self: flex-end;width: 50%;}#sk-container-id-4 div.sk-parallel-item:last-child::after {align-self: flex-start;width: 50%;}#sk-container-id-4 div.sk-parallel-item:only-child::after {width: 0;}#sk-container-id-4 div.sk-dashed-wrapped {border: 1px dashed gray;margin: 0 0.4em 0.5em 0.4em;box-sizing: border-box;padding-bottom: 0.4em;background-color: white;}#sk-container-id-4 div.sk-label label {font-family: monospace;font-weight: bold;display: inline-block;line-height: 1.2em;}#sk-container-id-4 div.sk-label-container {text-align: center;}#sk-container-id-4 div.sk-container {/* jupyter's `normalize.less` sets `[hidden] { display: none; }` but bootstrap.min.css set `[hidden] { display: none !important; }` so we also need the `!important` here to be able to override the default hidden behavior on the sphinx rendered scikit-learn.org. See: https://github.com/scikit-learn/scikit-learn/issues/21755 */display: inline-block !important;position: relative;}#sk-container-id-4 div.sk-text-repr-fallback {display: none;}</style><div id=\"sk-container-id-4\" class=\"sk-top-container\"><div class=\"sk-text-repr-fallback\"><pre>Pipeline(steps=[(&#x27;ccaencoder&#x27;, CCAEncoder()),\n                (&#x27;columntransformer&#x27;,\n                 ColumnTransformer(remainder=&#x27;passthrough&#x27;,\n                                   transformers=[(&#x27;drop_columns&#x27;, &#x27;drop&#x27;,\n                                                  [&#x27;sleep_time&#x27;, &#x27;wake_time&#x27;,\n                                                   &#x27;gender&#x27;, &#x27;student_id&#x27;,\n                                                   &#x27;age&#x27;, &#x27;tuition&#x27;,\n                                                   &#x27;direct_admission&#x27;,\n                                                   &#x27;learning_style&#x27;,\n                                                   &#x27;mode_of_transport&#x27;, &#x27;CCA&#x27;,\n                                                   &#x27;bag_color&#x27;])])),\n                (&#x27;standardscaler&#x27;, StandardScaler()),\n                (&#x27;randomforestregressor&#x27;, RandomForestRegressor(max_depth=10))])</pre><b>In a Jupyter environment, please rerun this cell to show the HTML representation or trust the notebook. <br />On GitHub, the HTML representation is unable to render, please try loading this page with nbviewer.org.</b></div><div class=\"sk-container\" hidden><div class=\"sk-item sk-dashed-wrapped\"><div class=\"sk-label-container\"><div class=\"sk-label sk-toggleable\"><input class=\"sk-toggleable__control sk-hidden--visually\" id=\"sk-estimator-id-28\" type=\"checkbox\" ><label for=\"sk-estimator-id-28\" class=\"sk-toggleable__label sk-toggleable__label-arrow\">Pipeline</label><div class=\"sk-toggleable__content\"><pre>Pipeline(steps=[(&#x27;ccaencoder&#x27;, CCAEncoder()),\n                (&#x27;columntransformer&#x27;,\n                 ColumnTransformer(remainder=&#x27;passthrough&#x27;,\n                                   transformers=[(&#x27;drop_columns&#x27;, &#x27;drop&#x27;,\n                                                  [&#x27;sleep_time&#x27;, &#x27;wake_time&#x27;,\n                                                   &#x27;gender&#x27;, &#x27;student_id&#x27;,\n                                                   &#x27;age&#x27;, &#x27;tuition&#x27;,\n                                                   &#x27;direct_admission&#x27;,\n                                                   &#x27;learning_style&#x27;,\n                                                   &#x27;mode_of_transport&#x27;, &#x27;CCA&#x27;,\n                                                   &#x27;bag_color&#x27;])])),\n                (&#x27;standardscaler&#x27;, StandardScaler()),\n                (&#x27;randomforestregressor&#x27;, RandomForestRegressor(max_depth=10))])</pre></div></div></div><div class=\"sk-serial\"><div class=\"sk-item\"><div class=\"sk-estimator sk-toggleable\"><input class=\"sk-toggleable__control sk-hidden--visually\" id=\"sk-estimator-id-29\" type=\"checkbox\" ><label for=\"sk-estimator-id-29\" class=\"sk-toggleable__label sk-toggleable__label-arrow\">CCAEncoder</label><div class=\"sk-toggleable__content\"><pre>CCAEncoder()</pre></div></div></div><div class=\"sk-item sk-dashed-wrapped\"><div class=\"sk-label-container\"><div class=\"sk-label sk-toggleable\"><input class=\"sk-toggleable__control sk-hidden--visually\" id=\"sk-estimator-id-30\" type=\"checkbox\" ><label for=\"sk-estimator-id-30\" class=\"sk-toggleable__label sk-toggleable__label-arrow\">columntransformer: ColumnTransformer</label><div class=\"sk-toggleable__content\"><pre>ColumnTransformer(remainder=&#x27;passthrough&#x27;,\n                  transformers=[(&#x27;drop_columns&#x27;, &#x27;drop&#x27;,\n                                 [&#x27;sleep_time&#x27;, &#x27;wake_time&#x27;, &#x27;gender&#x27;,\n                                  &#x27;student_id&#x27;, &#x27;age&#x27;, &#x27;tuition&#x27;,\n                                  &#x27;direct_admission&#x27;, &#x27;learning_style&#x27;,\n                                  &#x27;mode_of_transport&#x27;, &#x27;CCA&#x27;, &#x27;bag_color&#x27;])])</pre></div></div></div><div class=\"sk-parallel\"><div class=\"sk-parallel-item\"><div class=\"sk-item\"><div class=\"sk-label-container\"><div class=\"sk-label sk-toggleable\"><input class=\"sk-toggleable__control sk-hidden--visually\" id=\"sk-estimator-id-31\" type=\"checkbox\" ><label for=\"sk-estimator-id-31\" class=\"sk-toggleable__label sk-toggleable__label-arrow\">drop_columns</label><div class=\"sk-toggleable__content\"><pre>[&#x27;sleep_time&#x27;, &#x27;wake_time&#x27;, &#x27;gender&#x27;, &#x27;student_id&#x27;, &#x27;age&#x27;, &#x27;tuition&#x27;, &#x27;direct_admission&#x27;, &#x27;learning_style&#x27;, &#x27;mode_of_transport&#x27;, &#x27;CCA&#x27;, &#x27;bag_color&#x27;]</pre></div></div></div><div class=\"sk-serial\"><div class=\"sk-item\"><div class=\"sk-estimator sk-toggleable\"><input class=\"sk-toggleable__control sk-hidden--visually\" id=\"sk-estimator-id-32\" type=\"checkbox\" ><label for=\"sk-estimator-id-32\" class=\"sk-toggleable__label sk-toggleable__label-arrow\">drop</label><div class=\"sk-toggleable__content\"><pre>drop</pre></div></div></div></div></div></div><div class=\"sk-parallel-item\"><div class=\"sk-item\"><div class=\"sk-label-container\"><div class=\"sk-label sk-toggleable\"><input class=\"sk-toggleable__control sk-hidden--visually\" id=\"sk-estimator-id-33\" type=\"checkbox\" ><label for=\"sk-estimator-id-33\" class=\"sk-toggleable__label sk-toggleable__label-arrow\">remainder</label><div class=\"sk-toggleable__content\"><pre></pre></div></div></div><div class=\"sk-serial\"><div class=\"sk-item\"><div class=\"sk-estimator sk-toggleable\"><input class=\"sk-toggleable__control sk-hidden--visually\" id=\"sk-estimator-id-34\" type=\"checkbox\" ><label for=\"sk-estimator-id-34\" class=\"sk-toggleable__label sk-toggleable__label-arrow\">passthrough</label><div class=\"sk-toggleable__content\"><pre>passthrough</pre></div></div></div></div></div></div></div></div><div class=\"sk-item\"><div class=\"sk-estimator sk-toggleable\"><input class=\"sk-toggleable__control sk-hidden--visually\" id=\"sk-estimator-id-35\" type=\"checkbox\" ><label for=\"sk-estimator-id-35\" class=\"sk-toggleable__label sk-toggleable__label-arrow\">StandardScaler</label><div class=\"sk-toggleable__content\"><pre>StandardScaler()</pre></div></div></div><div class=\"sk-item\"><div class=\"sk-estimator sk-toggleable\"><input class=\"sk-toggleable__control sk-hidden--visually\" id=\"sk-estimator-id-36\" type=\"checkbox\" ><label for=\"sk-estimator-id-36\" class=\"sk-toggleable__label sk-toggleable__label-arrow\">RandomForestRegressor</label><div class=\"sk-toggleable__content\"><pre>RandomForestRegressor(max_depth=10)</pre></div></div></div></div></div></div></div>"
     },
     "execution_count": 41,
     "metadata": {},
     "output_type": "execute_result"
    }
   ],
   "source": [
    "model_pipe"
   ]
  },
  {
   "cell_type": "code",
   "execution_count": 42,
   "metadata": {
    "ExecuteTime": {
     "end_time": "2024-02-20T06:34:22.604475Z",
     "start_time": "2024-02-20T06:34:20.179896Z"
    }
   },
   "outputs": [
    {
     "data": {
      "text/plain": "Pipeline(steps=[('ccaencoder', CCAEncoder()),\n                ('columntransformer',\n                 ColumnTransformer(remainder='passthrough',\n                                   transformers=[('drop_columns', 'drop',\n                                                  ['sleep_time', 'wake_time',\n                                                   'gender', 'student_id',\n                                                   'age', 'tuition',\n                                                   'direct_admission',\n                                                   'learning_style',\n                                                   'mode_of_transport', 'CCA',\n                                                   'bag_color'])])),\n                ('standardscaler', StandardScaler()),\n                ('randomforestregressor', RandomForestRegressor(max_depth=10))])",
      "text/html": "<style>#sk-container-id-5 {color: black;}#sk-container-id-5 pre{padding: 0;}#sk-container-id-5 div.sk-toggleable {background-color: white;}#sk-container-id-5 label.sk-toggleable__label {cursor: pointer;display: block;width: 100%;margin-bottom: 0;padding: 0.3em;box-sizing: border-box;text-align: center;}#sk-container-id-5 label.sk-toggleable__label-arrow:before {content: \"▸\";float: left;margin-right: 0.25em;color: #696969;}#sk-container-id-5 label.sk-toggleable__label-arrow:hover:before {color: black;}#sk-container-id-5 div.sk-estimator:hover label.sk-toggleable__label-arrow:before {color: black;}#sk-container-id-5 div.sk-toggleable__content {max-height: 0;max-width: 0;overflow: hidden;text-align: left;background-color: #f0f8ff;}#sk-container-id-5 div.sk-toggleable__content pre {margin: 0.2em;color: black;border-radius: 0.25em;background-color: #f0f8ff;}#sk-container-id-5 input.sk-toggleable__control:checked~div.sk-toggleable__content {max-height: 200px;max-width: 100%;overflow: auto;}#sk-container-id-5 input.sk-toggleable__control:checked~label.sk-toggleable__label-arrow:before {content: \"▾\";}#sk-container-id-5 div.sk-estimator input.sk-toggleable__control:checked~label.sk-toggleable__label {background-color: #d4ebff;}#sk-container-id-5 div.sk-label input.sk-toggleable__control:checked~label.sk-toggleable__label {background-color: #d4ebff;}#sk-container-id-5 input.sk-hidden--visually {border: 0;clip: rect(1px 1px 1px 1px);clip: rect(1px, 1px, 1px, 1px);height: 1px;margin: -1px;overflow: hidden;padding: 0;position: absolute;width: 1px;}#sk-container-id-5 div.sk-estimator {font-family: monospace;background-color: #f0f8ff;border: 1px dotted black;border-radius: 0.25em;box-sizing: border-box;margin-bottom: 0.5em;}#sk-container-id-5 div.sk-estimator:hover {background-color: #d4ebff;}#sk-container-id-5 div.sk-parallel-item::after {content: \"\";width: 100%;border-bottom: 1px solid gray;flex-grow: 1;}#sk-container-id-5 div.sk-label:hover label.sk-toggleable__label {background-color: #d4ebff;}#sk-container-id-5 div.sk-serial::before {content: \"\";position: absolute;border-left: 1px solid gray;box-sizing: border-box;top: 0;bottom: 0;left: 50%;z-index: 0;}#sk-container-id-5 div.sk-serial {display: flex;flex-direction: column;align-items: center;background-color: white;padding-right: 0.2em;padding-left: 0.2em;position: relative;}#sk-container-id-5 div.sk-item {position: relative;z-index: 1;}#sk-container-id-5 div.sk-parallel {display: flex;align-items: stretch;justify-content: center;background-color: white;position: relative;}#sk-container-id-5 div.sk-item::before, #sk-container-id-5 div.sk-parallel-item::before {content: \"\";position: absolute;border-left: 1px solid gray;box-sizing: border-box;top: 0;bottom: 0;left: 50%;z-index: -1;}#sk-container-id-5 div.sk-parallel-item {display: flex;flex-direction: column;z-index: 1;position: relative;background-color: white;}#sk-container-id-5 div.sk-parallel-item:first-child::after {align-self: flex-end;width: 50%;}#sk-container-id-5 div.sk-parallel-item:last-child::after {align-self: flex-start;width: 50%;}#sk-container-id-5 div.sk-parallel-item:only-child::after {width: 0;}#sk-container-id-5 div.sk-dashed-wrapped {border: 1px dashed gray;margin: 0 0.4em 0.5em 0.4em;box-sizing: border-box;padding-bottom: 0.4em;background-color: white;}#sk-container-id-5 div.sk-label label {font-family: monospace;font-weight: bold;display: inline-block;line-height: 1.2em;}#sk-container-id-5 div.sk-label-container {text-align: center;}#sk-container-id-5 div.sk-container {/* jupyter's `normalize.less` sets `[hidden] { display: none; }` but bootstrap.min.css set `[hidden] { display: none !important; }` so we also need the `!important` here to be able to override the default hidden behavior on the sphinx rendered scikit-learn.org. See: https://github.com/scikit-learn/scikit-learn/issues/21755 */display: inline-block !important;position: relative;}#sk-container-id-5 div.sk-text-repr-fallback {display: none;}</style><div id=\"sk-container-id-5\" class=\"sk-top-container\"><div class=\"sk-text-repr-fallback\"><pre>Pipeline(steps=[(&#x27;ccaencoder&#x27;, CCAEncoder()),\n                (&#x27;columntransformer&#x27;,\n                 ColumnTransformer(remainder=&#x27;passthrough&#x27;,\n                                   transformers=[(&#x27;drop_columns&#x27;, &#x27;drop&#x27;,\n                                                  [&#x27;sleep_time&#x27;, &#x27;wake_time&#x27;,\n                                                   &#x27;gender&#x27;, &#x27;student_id&#x27;,\n                                                   &#x27;age&#x27;, &#x27;tuition&#x27;,\n                                                   &#x27;direct_admission&#x27;,\n                                                   &#x27;learning_style&#x27;,\n                                                   &#x27;mode_of_transport&#x27;, &#x27;CCA&#x27;,\n                                                   &#x27;bag_color&#x27;])])),\n                (&#x27;standardscaler&#x27;, StandardScaler()),\n                (&#x27;randomforestregressor&#x27;, RandomForestRegressor(max_depth=10))])</pre><b>In a Jupyter environment, please rerun this cell to show the HTML representation or trust the notebook. <br />On GitHub, the HTML representation is unable to render, please try loading this page with nbviewer.org.</b></div><div class=\"sk-container\" hidden><div class=\"sk-item sk-dashed-wrapped\"><div class=\"sk-label-container\"><div class=\"sk-label sk-toggleable\"><input class=\"sk-toggleable__control sk-hidden--visually\" id=\"sk-estimator-id-37\" type=\"checkbox\" ><label for=\"sk-estimator-id-37\" class=\"sk-toggleable__label sk-toggleable__label-arrow\">Pipeline</label><div class=\"sk-toggleable__content\"><pre>Pipeline(steps=[(&#x27;ccaencoder&#x27;, CCAEncoder()),\n                (&#x27;columntransformer&#x27;,\n                 ColumnTransformer(remainder=&#x27;passthrough&#x27;,\n                                   transformers=[(&#x27;drop_columns&#x27;, &#x27;drop&#x27;,\n                                                  [&#x27;sleep_time&#x27;, &#x27;wake_time&#x27;,\n                                                   &#x27;gender&#x27;, &#x27;student_id&#x27;,\n                                                   &#x27;age&#x27;, &#x27;tuition&#x27;,\n                                                   &#x27;direct_admission&#x27;,\n                                                   &#x27;learning_style&#x27;,\n                                                   &#x27;mode_of_transport&#x27;, &#x27;CCA&#x27;,\n                                                   &#x27;bag_color&#x27;])])),\n                (&#x27;standardscaler&#x27;, StandardScaler()),\n                (&#x27;randomforestregressor&#x27;, RandomForestRegressor(max_depth=10))])</pre></div></div></div><div class=\"sk-serial\"><div class=\"sk-item\"><div class=\"sk-estimator sk-toggleable\"><input class=\"sk-toggleable__control sk-hidden--visually\" id=\"sk-estimator-id-38\" type=\"checkbox\" ><label for=\"sk-estimator-id-38\" class=\"sk-toggleable__label sk-toggleable__label-arrow\">CCAEncoder</label><div class=\"sk-toggleable__content\"><pre>CCAEncoder()</pre></div></div></div><div class=\"sk-item sk-dashed-wrapped\"><div class=\"sk-label-container\"><div class=\"sk-label sk-toggleable\"><input class=\"sk-toggleable__control sk-hidden--visually\" id=\"sk-estimator-id-39\" type=\"checkbox\" ><label for=\"sk-estimator-id-39\" class=\"sk-toggleable__label sk-toggleable__label-arrow\">columntransformer: ColumnTransformer</label><div class=\"sk-toggleable__content\"><pre>ColumnTransformer(remainder=&#x27;passthrough&#x27;,\n                  transformers=[(&#x27;drop_columns&#x27;, &#x27;drop&#x27;,\n                                 [&#x27;sleep_time&#x27;, &#x27;wake_time&#x27;, &#x27;gender&#x27;,\n                                  &#x27;student_id&#x27;, &#x27;age&#x27;, &#x27;tuition&#x27;,\n                                  &#x27;direct_admission&#x27;, &#x27;learning_style&#x27;,\n                                  &#x27;mode_of_transport&#x27;, &#x27;CCA&#x27;, &#x27;bag_color&#x27;])])</pre></div></div></div><div class=\"sk-parallel\"><div class=\"sk-parallel-item\"><div class=\"sk-item\"><div class=\"sk-label-container\"><div class=\"sk-label sk-toggleable\"><input class=\"sk-toggleable__control sk-hidden--visually\" id=\"sk-estimator-id-40\" type=\"checkbox\" ><label for=\"sk-estimator-id-40\" class=\"sk-toggleable__label sk-toggleable__label-arrow\">drop_columns</label><div class=\"sk-toggleable__content\"><pre>[&#x27;sleep_time&#x27;, &#x27;wake_time&#x27;, &#x27;gender&#x27;, &#x27;student_id&#x27;, &#x27;age&#x27;, &#x27;tuition&#x27;, &#x27;direct_admission&#x27;, &#x27;learning_style&#x27;, &#x27;mode_of_transport&#x27;, &#x27;CCA&#x27;, &#x27;bag_color&#x27;]</pre></div></div></div><div class=\"sk-serial\"><div class=\"sk-item\"><div class=\"sk-estimator sk-toggleable\"><input class=\"sk-toggleable__control sk-hidden--visually\" id=\"sk-estimator-id-41\" type=\"checkbox\" ><label for=\"sk-estimator-id-41\" class=\"sk-toggleable__label sk-toggleable__label-arrow\">drop</label><div class=\"sk-toggleable__content\"><pre>drop</pre></div></div></div></div></div></div><div class=\"sk-parallel-item\"><div class=\"sk-item\"><div class=\"sk-label-container\"><div class=\"sk-label sk-toggleable\"><input class=\"sk-toggleable__control sk-hidden--visually\" id=\"sk-estimator-id-42\" type=\"checkbox\" ><label for=\"sk-estimator-id-42\" class=\"sk-toggleable__label sk-toggleable__label-arrow\">remainder</label><div class=\"sk-toggleable__content\"><pre>[&#x27;index&#x27;, &#x27;number_of_siblings&#x27;, &#x27;n_male&#x27;, &#x27;n_female&#x27;, &#x27;hours_per_week&#x27;, &#x27;attendance_rate&#x27;, &#x27;CCA_O&#x27;, &#x27;learning_style_visual&#x27;, &#x27;tuition_Yes&#x27;, &#x27;direct&#x27;]</pre></div></div></div><div class=\"sk-serial\"><div class=\"sk-item\"><div class=\"sk-estimator sk-toggleable\"><input class=\"sk-toggleable__control sk-hidden--visually\" id=\"sk-estimator-id-43\" type=\"checkbox\" ><label for=\"sk-estimator-id-43\" class=\"sk-toggleable__label sk-toggleable__label-arrow\">passthrough</label><div class=\"sk-toggleable__content\"><pre>passthrough</pre></div></div></div></div></div></div></div></div><div class=\"sk-item\"><div class=\"sk-estimator sk-toggleable\"><input class=\"sk-toggleable__control sk-hidden--visually\" id=\"sk-estimator-id-44\" type=\"checkbox\" ><label for=\"sk-estimator-id-44\" class=\"sk-toggleable__label sk-toggleable__label-arrow\">StandardScaler</label><div class=\"sk-toggleable__content\"><pre>StandardScaler()</pre></div></div></div><div class=\"sk-item\"><div class=\"sk-estimator sk-toggleable\"><input class=\"sk-toggleable__control sk-hidden--visually\" id=\"sk-estimator-id-45\" type=\"checkbox\" ><label for=\"sk-estimator-id-45\" class=\"sk-toggleable__label sk-toggleable__label-arrow\">RandomForestRegressor</label><div class=\"sk-toggleable__content\"><pre>RandomForestRegressor(max_depth=10)</pre></div></div></div></div></div></div></div>"
     },
     "execution_count": 42,
     "metadata": {},
     "output_type": "execute_result"
    }
   ],
   "source": [
    "# Train the pipeline\n",
    "model_pipe.fit(X_train, y_train)"
   ]
  },
  {
   "cell_type": "code",
   "execution_count": 43,
   "metadata": {
    "ExecuteTime": {
     "end_time": "2024-02-20T06:34:22.668293Z",
     "start_time": "2024-02-20T06:34:22.607521Z"
    }
   },
   "outputs": [
    {
     "name": "stdout",
     "output_type": "stream",
     "text": [
      "Model_pipe r2_score_test:  0.7020326527473899\n",
      "Model_pipe rmse_test:  7.663380824032008\n"
     ]
    }
   ],
   "source": [
    "from sklearn.metrics import r2_score\n",
    "from sklearn.metrics import mean_squared_error\n",
    "# Test the pipeline\n",
    "y_pred = model_pipe.predict(X_test)\n",
    "\n",
    "# Evaluate performance\n",
    "r2_score_test = r2_score(y_test, y_pred)\n",
    "rmse_test = (np.sqrt(mean_squared_error(y_test, y_pred)))\n",
    "\n",
    "print(\"Model_pipe r2_score_test: \", r2_score_test)\n",
    "print(\"Model_pipe rmse_test: \", rmse_test)"
   ]
  },
  {
   "cell_type": "code",
   "execution_count": 44,
   "metadata": {
    "ExecuteTime": {
     "end_time": "2024-02-20T06:34:23.210038Z",
     "start_time": "2024-02-20T06:34:22.660763Z"
    }
   },
   "outputs": [
    {
     "name": "stdout",
     "output_type": "stream",
     "text": [
      "You entered: https://techassessment.blob.core.windows.net/aiap-preparatory-bootcamp/score.db\n",
      "Table Name: score\n",
      "       index  number_of_siblings direct_admission     CCA learning_style  \\\n",
      "0          0                   0              Yes  Sports         Visual   \n",
      "1          1                   2               No  Sports       Auditory   \n",
      "2          2                   0              Yes    None         Visual   \n",
      "4          4                   0               No  Sports       Auditory   \n",
      "5          5                   0               No    Arts         Visual   \n",
      "...      ...                 ...              ...     ...            ...   \n",
      "15895  15895                   1               No   Clubs         Visual   \n",
      "15896  15896                   1              Yes    None       Auditory   \n",
      "15897  15897                   1              Yes  Sports       Auditory   \n",
      "15898  15898                   1               No   Clubs         Visual   \n",
      "15899  15899                   2              Yes    None         Visual   \n",
      "\n",
      "      student_id  gender tuition  n_male  n_female   age  hours_per_week  \\\n",
      "0         ACN2BE  Female      No    14.0       2.0  16.0            10.0   \n",
      "1         FGXIIZ  Female      No     4.0      19.0  16.0             7.0   \n",
      "2         B9AI9F    Male      No    14.0       2.0  15.0             8.0   \n",
      "4         AXZN2E    Male      No    24.0       3.0  16.0             7.0   \n",
      "5         BA6R14  Female      No     9.0      12.0  15.0            11.0   \n",
      "...          ...     ...     ...     ...       ...   ...             ...   \n",
      "15895     XPECN2  Female      No    12.0      14.0  16.0             9.0   \n",
      "15896     7AMC7S    Male     Yes    17.0       5.0  16.0             7.0   \n",
      "15897     XKZ6VN  Female     Yes     7.0      10.0  15.0             7.0   \n",
      "15898     2OU4UQ    Male     Yes    18.0      12.0  16.0             3.0   \n",
      "15899     D9OKLV    Male      No    11.0       7.0  16.0             9.0   \n",
      "\n",
      "       attendance_rate sleep_time wake_time  mode_of_transport bag_color  \\\n",
      "0                 91.0      22:00      6:00  private transport    yellow   \n",
      "1                 94.0      22:30      6:30  private transport     green   \n",
      "2                 92.0      22:30      6:30  private transport     white   \n",
      "4                 95.0      21:30      5:30   public transport    yellow   \n",
      "5                 96.0      22:30      6:30  private transport       red   \n",
      "...                ...        ...       ...                ...       ...   \n",
      "15895             96.0      22:00      6:00  private transport     black   \n",
      "15896             91.0      22:30      6:30  private transport     white   \n",
      "15897             93.0      23:00      7:00               walk       red   \n",
      "15898             94.0      23:00      7:00               walk    yellow   \n",
      "15899             91.0      23:00      7:00               walk    yellow   \n",
      "\n",
      "       final_test  \n",
      "0            69.0  \n",
      "1            47.0  \n",
      "2            85.0  \n",
      "4            66.0  \n",
      "5            57.0  \n",
      "...           ...  \n",
      "15895        56.0  \n",
      "15896        85.0  \n",
      "15897        76.0  \n",
      "15898        45.0  \n",
      "15899        87.0  \n",
      "\n",
      "[13885 rows x 18 columns]\n"
     ]
    }
   ],
   "source": [
    "\n",
    "# Ask User for URL to prediction data file and fetch prediction data from URL\n",
    "# https://techassessment.blob.core.windows.net/aiap-preparatory-bootcamp/score.db\n",
    "\n",
    "def get_url_from_user():\n",
    "    \"\"\"\n",
    "    Function to ask the user to input a URL.\n",
    "    \n",
    "    Returns:\n",
    "    url (str): The URL inputted by the user.\n",
    "    \"\"\"\n",
    "    url = predict_url # input(\"Please enter the URL to your Prediction Data: \")\n",
    "    return url\n",
    "\n",
    "# Example usage:\n",
    "if __name__ == \"__main__\":\n",
    "    user_url = get_url_from_user()\n",
    "    print(\"You entered:\", user_url)\n",
    "\n",
    "    response = requests.get(user_url)\n",
    "    score_data = sqlite3.connect('score.db')\n",
    "    ## table name is known\n",
    "    db_name = \"score.db\"\n",
    "    table_name = \"score\"  ## insert table name\n",
    "    engine = sqlalchemy.create_engine('sqlite:///%s'% db_name, execution_options={\"sqlite_raw_colnames\":True})\n",
    "    print(\"Table Name:\", table_name)\n",
    "    df1 = pd.DataFrame()\n",
    "    df1 = pd.read_sql_table(table_name, engine)\n",
    "    df1 = df.dropna()\n",
    "    df1 = df.drop_duplicates(subset='student_id')\n",
    "    df1.columns = [str(col) for col in df.columns]\n",
    "\n",
    "    print(df1)\n"
   ]
  },
  {
   "cell_type": "code",
   "execution_count": 45,
   "metadata": {
    "ExecuteTime": {
     "end_time": "2024-02-20T06:34:23.251478Z",
     "start_time": "2024-02-20T06:34:23.242344Z"
    }
   },
   "outputs": [
    {
     "data": {
      "text/plain": "            index  number_of_siblings direct_admission     CCA learning_style  \\\nstudent_id                                                                      \nACN2BE          0                   0              Yes  Sports         Visual   \nFGXIIZ          1                   2               No  Sports       Auditory   \nB9AI9F          2                   0              Yes    None         Visual   \nAXZN2E          4                   0               No  Sports       Auditory   \nBA6R14          5                   0               No    Arts         Visual   \n...           ...                 ...              ...     ...            ...   \nXPECN2      15895                   1               No   Clubs         Visual   \n7AMC7S      15896                   1              Yes    None       Auditory   \nXKZ6VN      15897                   1              Yes  Sports       Auditory   \n2OU4UQ      15898                   1               No   Clubs         Visual   \nD9OKLV      15899                   2              Yes    None         Visual   \n\n            gender tuition  n_male  n_female   age  hours_per_week  \\\nstudent_id                                                           \nACN2BE      Female      No    14.0       2.0  16.0            10.0   \nFGXIIZ      Female      No     4.0      19.0  16.0             7.0   \nB9AI9F        Male      No    14.0       2.0  15.0             8.0   \nAXZN2E        Male      No    24.0       3.0  16.0             7.0   \nBA6R14      Female      No     9.0      12.0  15.0            11.0   \n...            ...     ...     ...       ...   ...             ...   \nXPECN2      Female      No    12.0      14.0  16.0             9.0   \n7AMC7S        Male     Yes    17.0       5.0  16.0             7.0   \nXKZ6VN      Female     Yes     7.0      10.0  15.0             7.0   \n2OU4UQ        Male     Yes    18.0      12.0  16.0             3.0   \nD9OKLV        Male      No    11.0       7.0  16.0             9.0   \n\n            attendance_rate sleep_time wake_time  mode_of_transport bag_color  \nstudent_id                                                                     \nACN2BE                 91.0      22:00      6:00  private transport    yellow  \nFGXIIZ                 94.0      22:30      6:30  private transport     green  \nB9AI9F                 92.0      22:30      6:30  private transport     white  \nAXZN2E                 95.0      21:30      5:30   public transport    yellow  \nBA6R14                 96.0      22:30      6:30  private transport       red  \n...                     ...        ...       ...                ...       ...  \nXPECN2                 96.0      22:00      6:00  private transport     black  \n7AMC7S                 91.0      22:30      6:30  private transport     white  \nXKZ6VN                 93.0      23:00      7:00               walk       red  \n2OU4UQ                 94.0      23:00      7:00               walk    yellow  \nD9OKLV                 91.0      23:00      7:00               walk    yellow  \n\n[13885 rows x 16 columns]",
      "text/html": "<div>\n<style scoped>\n    .dataframe tbody tr th:only-of-type {\n        vertical-align: middle;\n    }\n\n    .dataframe tbody tr th {\n        vertical-align: top;\n    }\n\n    .dataframe thead th {\n        text-align: right;\n    }\n</style>\n<table border=\"1\" class=\"dataframe\">\n  <thead>\n    <tr style=\"text-align: right;\">\n      <th></th>\n      <th>index</th>\n      <th>number_of_siblings</th>\n      <th>direct_admission</th>\n      <th>CCA</th>\n      <th>learning_style</th>\n      <th>gender</th>\n      <th>tuition</th>\n      <th>n_male</th>\n      <th>n_female</th>\n      <th>age</th>\n      <th>hours_per_week</th>\n      <th>attendance_rate</th>\n      <th>sleep_time</th>\n      <th>wake_time</th>\n      <th>mode_of_transport</th>\n      <th>bag_color</th>\n    </tr>\n    <tr>\n      <th>student_id</th>\n      <th></th>\n      <th></th>\n      <th></th>\n      <th></th>\n      <th></th>\n      <th></th>\n      <th></th>\n      <th></th>\n      <th></th>\n      <th></th>\n      <th></th>\n      <th></th>\n      <th></th>\n      <th></th>\n      <th></th>\n      <th></th>\n    </tr>\n  </thead>\n  <tbody>\n    <tr>\n      <th>ACN2BE</th>\n      <td>0</td>\n      <td>0</td>\n      <td>Yes</td>\n      <td>Sports</td>\n      <td>Visual</td>\n      <td>Female</td>\n      <td>No</td>\n      <td>14.0</td>\n      <td>2.0</td>\n      <td>16.0</td>\n      <td>10.0</td>\n      <td>91.0</td>\n      <td>22:00</td>\n      <td>6:00</td>\n      <td>private transport</td>\n      <td>yellow</td>\n    </tr>\n    <tr>\n      <th>FGXIIZ</th>\n      <td>1</td>\n      <td>2</td>\n      <td>No</td>\n      <td>Sports</td>\n      <td>Auditory</td>\n      <td>Female</td>\n      <td>No</td>\n      <td>4.0</td>\n      <td>19.0</td>\n      <td>16.0</td>\n      <td>7.0</td>\n      <td>94.0</td>\n      <td>22:30</td>\n      <td>6:30</td>\n      <td>private transport</td>\n      <td>green</td>\n    </tr>\n    <tr>\n      <th>B9AI9F</th>\n      <td>2</td>\n      <td>0</td>\n      <td>Yes</td>\n      <td>None</td>\n      <td>Visual</td>\n      <td>Male</td>\n      <td>No</td>\n      <td>14.0</td>\n      <td>2.0</td>\n      <td>15.0</td>\n      <td>8.0</td>\n      <td>92.0</td>\n      <td>22:30</td>\n      <td>6:30</td>\n      <td>private transport</td>\n      <td>white</td>\n    </tr>\n    <tr>\n      <th>AXZN2E</th>\n      <td>4</td>\n      <td>0</td>\n      <td>No</td>\n      <td>Sports</td>\n      <td>Auditory</td>\n      <td>Male</td>\n      <td>No</td>\n      <td>24.0</td>\n      <td>3.0</td>\n      <td>16.0</td>\n      <td>7.0</td>\n      <td>95.0</td>\n      <td>21:30</td>\n      <td>5:30</td>\n      <td>public transport</td>\n      <td>yellow</td>\n    </tr>\n    <tr>\n      <th>BA6R14</th>\n      <td>5</td>\n      <td>0</td>\n      <td>No</td>\n      <td>Arts</td>\n      <td>Visual</td>\n      <td>Female</td>\n      <td>No</td>\n      <td>9.0</td>\n      <td>12.0</td>\n      <td>15.0</td>\n      <td>11.0</td>\n      <td>96.0</td>\n      <td>22:30</td>\n      <td>6:30</td>\n      <td>private transport</td>\n      <td>red</td>\n    </tr>\n    <tr>\n      <th>...</th>\n      <td>...</td>\n      <td>...</td>\n      <td>...</td>\n      <td>...</td>\n      <td>...</td>\n      <td>...</td>\n      <td>...</td>\n      <td>...</td>\n      <td>...</td>\n      <td>...</td>\n      <td>...</td>\n      <td>...</td>\n      <td>...</td>\n      <td>...</td>\n      <td>...</td>\n      <td>...</td>\n    </tr>\n    <tr>\n      <th>XPECN2</th>\n      <td>15895</td>\n      <td>1</td>\n      <td>No</td>\n      <td>Clubs</td>\n      <td>Visual</td>\n      <td>Female</td>\n      <td>No</td>\n      <td>12.0</td>\n      <td>14.0</td>\n      <td>16.0</td>\n      <td>9.0</td>\n      <td>96.0</td>\n      <td>22:00</td>\n      <td>6:00</td>\n      <td>private transport</td>\n      <td>black</td>\n    </tr>\n    <tr>\n      <th>7AMC7S</th>\n      <td>15896</td>\n      <td>1</td>\n      <td>Yes</td>\n      <td>None</td>\n      <td>Auditory</td>\n      <td>Male</td>\n      <td>Yes</td>\n      <td>17.0</td>\n      <td>5.0</td>\n      <td>16.0</td>\n      <td>7.0</td>\n      <td>91.0</td>\n      <td>22:30</td>\n      <td>6:30</td>\n      <td>private transport</td>\n      <td>white</td>\n    </tr>\n    <tr>\n      <th>XKZ6VN</th>\n      <td>15897</td>\n      <td>1</td>\n      <td>Yes</td>\n      <td>Sports</td>\n      <td>Auditory</td>\n      <td>Female</td>\n      <td>Yes</td>\n      <td>7.0</td>\n      <td>10.0</td>\n      <td>15.0</td>\n      <td>7.0</td>\n      <td>93.0</td>\n      <td>23:00</td>\n      <td>7:00</td>\n      <td>walk</td>\n      <td>red</td>\n    </tr>\n    <tr>\n      <th>2OU4UQ</th>\n      <td>15898</td>\n      <td>1</td>\n      <td>No</td>\n      <td>Clubs</td>\n      <td>Visual</td>\n      <td>Male</td>\n      <td>Yes</td>\n      <td>18.0</td>\n      <td>12.0</td>\n      <td>16.0</td>\n      <td>3.0</td>\n      <td>94.0</td>\n      <td>23:00</td>\n      <td>7:00</td>\n      <td>walk</td>\n      <td>yellow</td>\n    </tr>\n    <tr>\n      <th>D9OKLV</th>\n      <td>15899</td>\n      <td>2</td>\n      <td>Yes</td>\n      <td>None</td>\n      <td>Visual</td>\n      <td>Male</td>\n      <td>No</td>\n      <td>11.0</td>\n      <td>7.0</td>\n      <td>16.0</td>\n      <td>9.0</td>\n      <td>91.0</td>\n      <td>23:00</td>\n      <td>7:00</td>\n      <td>walk</td>\n      <td>yellow</td>\n    </tr>\n  </tbody>\n</table>\n<p>13885 rows × 16 columns</p>\n</div>"
     },
     "execution_count": 45,
     "metadata": {},
     "output_type": "execute_result"
    }
   ],
   "source": [
    "# There are now 19 columns , including dummies. 'final_test' column should be blank, so move column 'final_test' to the end\n",
    "df1 = df1[[col for col in df if col != 'final_test'] + ['final_test']]\n",
    "\n",
    "## Drop final_test from Prediction Data \n",
    "X = pd.DataFrame()\n",
    "X = df1.iloc[ : , :-1]\n",
    "X.set_index('student_id', inplace=True)  ## we want to preserve student_id so we can match our predicted final_test score back to a specific student\n",
    "X\n"
   ]
  },
  {
   "cell_type": "code",
   "execution_count": 46,
   "metadata": {
    "ExecuteTime": {
     "end_time": "2024-02-20T06:34:30.616596Z",
     "start_time": "2024-02-20T06:34:30.364173Z"
    }
   },
   "outputs": [
    {
     "name": "stdout",
     "output_type": "stream",
     "text": [
      "[73.53738406 54.1329678  81.93924881 ... 75.22022476 46.7397553\n",
      " 80.12483142]\n"
     ]
    }
   ],
   "source": [
    "predict_pipe = make_pipeline(\n",
    "    CCAEncoder(), # One_Hot Encoder for CCA = None\n",
    "    pre_process,\n",
    "    StandardScaler(),\n",
    "    model_pipe.predict(X),\n",
    "    print(model_pipe.predict(X))\n",
    "    \n",
    ")\n"
   ]
  },
  {
   "cell_type": "code",
   "execution_count": 47,
   "metadata": {
    "ExecuteTime": {
     "end_time": "2024-02-20T06:34:35.575776Z",
     "start_time": "2024-02-20T06:34:35.450014Z"
    }
   },
   "outputs": [],
   "source": [
    "y_prediction = model_pipe.predict(X)\n",
    "y_p = pd.DataFrame()\n",
    "y_p = pd.DataFrame(y_prediction)\n",
    "X_index = pd.DataFrame(X.index)  ## put the student_id back to the predicted final_test scores\n",
    "y_df = pd.concat([X_index, y_p], axis=1)\n",
    "\n"
   ]
  },
  {
   "cell_type": "code",
   "execution_count": 48,
   "metadata": {
    "ExecuteTime": {
     "end_time": "2024-02-20T06:34:37.453747Z",
     "start_time": "2024-02-20T06:34:37.432276Z"
    }
   },
   "outputs": [
    {
     "data": {
      "text/plain": "      student_id          0\n0         ACN2BE  73.537384\n1         FGXIIZ  54.132968\n2         B9AI9F  81.939249\n3         AXZN2E  70.638862\n4         BA6R14  59.651274\n...          ...        ...\n13880     XPECN2  55.392689\n13881     7AMC7S  78.922518\n13882     XKZ6VN  75.220225\n13883     2OU4UQ  46.739755\n13884     D9OKLV  80.124831\n\n[13885 rows x 2 columns]",
      "text/html": "<div>\n<style scoped>\n    .dataframe tbody tr th:only-of-type {\n        vertical-align: middle;\n    }\n\n    .dataframe tbody tr th {\n        vertical-align: top;\n    }\n\n    .dataframe thead th {\n        text-align: right;\n    }\n</style>\n<table border=\"1\" class=\"dataframe\">\n  <thead>\n    <tr style=\"text-align: right;\">\n      <th></th>\n      <th>student_id</th>\n      <th>0</th>\n    </tr>\n  </thead>\n  <tbody>\n    <tr>\n      <th>0</th>\n      <td>ACN2BE</td>\n      <td>73.537384</td>\n    </tr>\n    <tr>\n      <th>1</th>\n      <td>FGXIIZ</td>\n      <td>54.132968</td>\n    </tr>\n    <tr>\n      <th>2</th>\n      <td>B9AI9F</td>\n      <td>81.939249</td>\n    </tr>\n    <tr>\n      <th>3</th>\n      <td>AXZN2E</td>\n      <td>70.638862</td>\n    </tr>\n    <tr>\n      <th>4</th>\n      <td>BA6R14</td>\n      <td>59.651274</td>\n    </tr>\n    <tr>\n      <th>...</th>\n      <td>...</td>\n      <td>...</td>\n    </tr>\n    <tr>\n      <th>13880</th>\n      <td>XPECN2</td>\n      <td>55.392689</td>\n    </tr>\n    <tr>\n      <th>13881</th>\n      <td>7AMC7S</td>\n      <td>78.922518</td>\n    </tr>\n    <tr>\n      <th>13882</th>\n      <td>XKZ6VN</td>\n      <td>75.220225</td>\n    </tr>\n    <tr>\n      <th>13883</th>\n      <td>2OU4UQ</td>\n      <td>46.739755</td>\n    </tr>\n    <tr>\n      <th>13884</th>\n      <td>D9OKLV</td>\n      <td>80.124831</td>\n    </tr>\n  </tbody>\n</table>\n<p>13885 rows × 2 columns</p>\n</div>"
     },
     "execution_count": 48,
     "metadata": {},
     "output_type": "execute_result"
    }
   ],
   "source": [
    "y_df"
   ]
  },
  {
   "cell_type": "code",
   "execution_count": 49,
   "metadata": {
    "ExecuteTime": {
     "end_time": "2024-02-20T06:35:05.750351Z",
     "start_time": "2024-02-20T06:35:05.711344Z"
    }
   },
   "outputs": [
    {
     "name": "stdout",
     "output_type": "stream",
     "text": [
      "You entered: C:\\...prediction.csv\n"
     ]
    }
   ],
   "source": [
    "# Ask User for URL for file_path for saving y_prediction df\n",
    "# C:\\Users\\hclee\\Desktop\\prediction.csv\n",
    "\n",
    "def get_url_from_user():\n",
    "    \"\"\"\n",
    "    Function to ask the user to input a file_path.\n",
    "    \n",
    "    Returns:\n",
    "    url (str): The URL inputted by the user.\n",
    "    \"\"\"\n",
    "    url = file_path # input(\"Please enter the file_path with final name ending in csv on your local drive where you want to save your final_test score prediction\")\n",
    "    \n",
    "    return url\n",
    "\n",
    "# Example usage:\n",
    "if __name__ == \"__main__\":\n",
    "    file_path = get_url_from_user()\n",
    "    print(\"You entered:\", file_path)\n"
   ]
  },
  {
   "cell_type": "code",
   "execution_count": 50,
   "metadata": {
    "ExecuteTime": {
     "end_time": "2024-02-20T06:35:09.683071Z",
     "start_time": "2024-02-20T06:35:09.628342Z"
    }
   },
   "outputs": [
    {
     "data": {
      "text/plain": "      student_id          0\n0         ACN2BE  73.537384\n1         FGXIIZ  54.132968\n2         B9AI9F  81.939249\n3         AXZN2E  70.638862\n4         BA6R14  59.651274\n...          ...        ...\n13880     XPECN2  55.392689\n13881     7AMC7S  78.922518\n13882     XKZ6VN  75.220225\n13883     2OU4UQ  46.739755\n13884     D9OKLV  80.124831\n\n[13885 rows x 2 columns]",
      "text/html": "<div>\n<style scoped>\n    .dataframe tbody tr th:only-of-type {\n        vertical-align: middle;\n    }\n\n    .dataframe tbody tr th {\n        vertical-align: top;\n    }\n\n    .dataframe thead th {\n        text-align: right;\n    }\n</style>\n<table border=\"1\" class=\"dataframe\">\n  <thead>\n    <tr style=\"text-align: right;\">\n      <th></th>\n      <th>student_id</th>\n      <th>0</th>\n    </tr>\n  </thead>\n  <tbody>\n    <tr>\n      <th>0</th>\n      <td>ACN2BE</td>\n      <td>73.537384</td>\n    </tr>\n    <tr>\n      <th>1</th>\n      <td>FGXIIZ</td>\n      <td>54.132968</td>\n    </tr>\n    <tr>\n      <th>2</th>\n      <td>B9AI9F</td>\n      <td>81.939249</td>\n    </tr>\n    <tr>\n      <th>3</th>\n      <td>AXZN2E</td>\n      <td>70.638862</td>\n    </tr>\n    <tr>\n      <th>4</th>\n      <td>BA6R14</td>\n      <td>59.651274</td>\n    </tr>\n    <tr>\n      <th>...</th>\n      <td>...</td>\n      <td>...</td>\n    </tr>\n    <tr>\n      <th>13880</th>\n      <td>XPECN2</td>\n      <td>55.392689</td>\n    </tr>\n    <tr>\n      <th>13881</th>\n      <td>7AMC7S</td>\n      <td>78.922518</td>\n    </tr>\n    <tr>\n      <th>13882</th>\n      <td>XKZ6VN</td>\n      <td>75.220225</td>\n    </tr>\n    <tr>\n      <th>13883</th>\n      <td>2OU4UQ</td>\n      <td>46.739755</td>\n    </tr>\n    <tr>\n      <th>13884</th>\n      <td>D9OKLV</td>\n      <td>80.124831</td>\n    </tr>\n  </tbody>\n</table>\n<p>13885 rows × 2 columns</p>\n</div>"
     },
     "execution_count": 50,
     "metadata": {},
     "output_type": "execute_result"
    }
   ],
   "source": [
    "\n",
    "y_df.to_csv(file_path, index=False)\n",
    "\n",
    "# retrieve y_df to make sure it was saved\n",
    "y_df_final = pd.read_csv(file_path)\n",
    "y_df_final"
   ]
  },
  {
   "cell_type": "code",
   "outputs": [
    {
     "name": "stdout",
     "output_type": "stream",
     "text": [
      "C:\\...prediction.csv\n"
     ]
    }
   ],
   "source": [
    "print(file_path)"
   ],
   "metadata": {
    "collapsed": false,
    "ExecuteTime": {
     "end_time": "2024-02-20T06:36:01.462166Z",
     "start_time": "2024-02-20T06:36:01.451905Z"
    }
   },
   "execution_count": 51
  },
  {
   "cell_type": "markdown",
   "metadata": {},
   "source": []
  },
  {
   "cell_type": "code",
   "execution_count": 25,
   "metadata": {
    "ExecuteTime": {
     "end_time": "2024-02-20T06:32:35.787034Z",
     "start_time": "2024-02-20T06:32:35.732450Z"
    }
   },
   "outputs": [
    {
     "data": {
      "text/plain": "['model_pipe.joblib']"
     },
     "execution_count": 25,
     "metadata": {},
     "output_type": "execute_result"
    }
   ],
   "source": [
    "import joblib\n",
    "joblib.dump(model_pipe, \"model_pipe.joblib\")"
   ]
  },
  {
   "cell_type": "code",
   "execution_count": 26,
   "metadata": {
    "ExecuteTime": {
     "end_time": "2024-02-20T06:32:36.630249Z",
     "start_time": "2024-02-20T06:32:36.574486Z"
    }
   },
   "outputs": [
    {
     "data": {
      "text/plain": "Pipeline(steps=[('ccaencoder', CCAEncoder()),\n                ('columntransformer',\n                 ColumnTransformer(remainder='passthrough',\n                                   transformers=[('drop_columns', 'drop',\n                                                  ['sleep_time', 'wake_time',\n                                                   'gender', 'student_id',\n                                                   'age', 'tuition',\n                                                   'direct_admission',\n                                                   'learning_style',\n                                                   'mode_of_transport', 'CCA',\n                                                   'bag_color'])])),\n                ('standardscaler', StandardScaler()),\n                ('randomforestregressor', RandomForestRegressor(max_depth=10))])",
      "text/html": "<style>#sk-container-id-3 {color: black;}#sk-container-id-3 pre{padding: 0;}#sk-container-id-3 div.sk-toggleable {background-color: white;}#sk-container-id-3 label.sk-toggleable__label {cursor: pointer;display: block;width: 100%;margin-bottom: 0;padding: 0.3em;box-sizing: border-box;text-align: center;}#sk-container-id-3 label.sk-toggleable__label-arrow:before {content: \"▸\";float: left;margin-right: 0.25em;color: #696969;}#sk-container-id-3 label.sk-toggleable__label-arrow:hover:before {color: black;}#sk-container-id-3 div.sk-estimator:hover label.sk-toggleable__label-arrow:before {color: black;}#sk-container-id-3 div.sk-toggleable__content {max-height: 0;max-width: 0;overflow: hidden;text-align: left;background-color: #f0f8ff;}#sk-container-id-3 div.sk-toggleable__content pre {margin: 0.2em;color: black;border-radius: 0.25em;background-color: #f0f8ff;}#sk-container-id-3 input.sk-toggleable__control:checked~div.sk-toggleable__content {max-height: 200px;max-width: 100%;overflow: auto;}#sk-container-id-3 input.sk-toggleable__control:checked~label.sk-toggleable__label-arrow:before {content: \"▾\";}#sk-container-id-3 div.sk-estimator input.sk-toggleable__control:checked~label.sk-toggleable__label {background-color: #d4ebff;}#sk-container-id-3 div.sk-label input.sk-toggleable__control:checked~label.sk-toggleable__label {background-color: #d4ebff;}#sk-container-id-3 input.sk-hidden--visually {border: 0;clip: rect(1px 1px 1px 1px);clip: rect(1px, 1px, 1px, 1px);height: 1px;margin: -1px;overflow: hidden;padding: 0;position: absolute;width: 1px;}#sk-container-id-3 div.sk-estimator {font-family: monospace;background-color: #f0f8ff;border: 1px dotted black;border-radius: 0.25em;box-sizing: border-box;margin-bottom: 0.5em;}#sk-container-id-3 div.sk-estimator:hover {background-color: #d4ebff;}#sk-container-id-3 div.sk-parallel-item::after {content: \"\";width: 100%;border-bottom: 1px solid gray;flex-grow: 1;}#sk-container-id-3 div.sk-label:hover label.sk-toggleable__label {background-color: #d4ebff;}#sk-container-id-3 div.sk-serial::before {content: \"\";position: absolute;border-left: 1px solid gray;box-sizing: border-box;top: 0;bottom: 0;left: 50%;z-index: 0;}#sk-container-id-3 div.sk-serial {display: flex;flex-direction: column;align-items: center;background-color: white;padding-right: 0.2em;padding-left: 0.2em;position: relative;}#sk-container-id-3 div.sk-item {position: relative;z-index: 1;}#sk-container-id-3 div.sk-parallel {display: flex;align-items: stretch;justify-content: center;background-color: white;position: relative;}#sk-container-id-3 div.sk-item::before, #sk-container-id-3 div.sk-parallel-item::before {content: \"\";position: absolute;border-left: 1px solid gray;box-sizing: border-box;top: 0;bottom: 0;left: 50%;z-index: -1;}#sk-container-id-3 div.sk-parallel-item {display: flex;flex-direction: column;z-index: 1;position: relative;background-color: white;}#sk-container-id-3 div.sk-parallel-item:first-child::after {align-self: flex-end;width: 50%;}#sk-container-id-3 div.sk-parallel-item:last-child::after {align-self: flex-start;width: 50%;}#sk-container-id-3 div.sk-parallel-item:only-child::after {width: 0;}#sk-container-id-3 div.sk-dashed-wrapped {border: 1px dashed gray;margin: 0 0.4em 0.5em 0.4em;box-sizing: border-box;padding-bottom: 0.4em;background-color: white;}#sk-container-id-3 div.sk-label label {font-family: monospace;font-weight: bold;display: inline-block;line-height: 1.2em;}#sk-container-id-3 div.sk-label-container {text-align: center;}#sk-container-id-3 div.sk-container {/* jupyter's `normalize.less` sets `[hidden] { display: none; }` but bootstrap.min.css set `[hidden] { display: none !important; }` so we also need the `!important` here to be able to override the default hidden behavior on the sphinx rendered scikit-learn.org. See: https://github.com/scikit-learn/scikit-learn/issues/21755 */display: inline-block !important;position: relative;}#sk-container-id-3 div.sk-text-repr-fallback {display: none;}</style><div id=\"sk-container-id-3\" class=\"sk-top-container\"><div class=\"sk-text-repr-fallback\"><pre>Pipeline(steps=[(&#x27;ccaencoder&#x27;, CCAEncoder()),\n                (&#x27;columntransformer&#x27;,\n                 ColumnTransformer(remainder=&#x27;passthrough&#x27;,\n                                   transformers=[(&#x27;drop_columns&#x27;, &#x27;drop&#x27;,\n                                                  [&#x27;sleep_time&#x27;, &#x27;wake_time&#x27;,\n                                                   &#x27;gender&#x27;, &#x27;student_id&#x27;,\n                                                   &#x27;age&#x27;, &#x27;tuition&#x27;,\n                                                   &#x27;direct_admission&#x27;,\n                                                   &#x27;learning_style&#x27;,\n                                                   &#x27;mode_of_transport&#x27;, &#x27;CCA&#x27;,\n                                                   &#x27;bag_color&#x27;])])),\n                (&#x27;standardscaler&#x27;, StandardScaler()),\n                (&#x27;randomforestregressor&#x27;, RandomForestRegressor(max_depth=10))])</pre><b>In a Jupyter environment, please rerun this cell to show the HTML representation or trust the notebook. <br />On GitHub, the HTML representation is unable to render, please try loading this page with nbviewer.org.</b></div><div class=\"sk-container\" hidden><div class=\"sk-item sk-dashed-wrapped\"><div class=\"sk-label-container\"><div class=\"sk-label sk-toggleable\"><input class=\"sk-toggleable__control sk-hidden--visually\" id=\"sk-estimator-id-19\" type=\"checkbox\" ><label for=\"sk-estimator-id-19\" class=\"sk-toggleable__label sk-toggleable__label-arrow\">Pipeline</label><div class=\"sk-toggleable__content\"><pre>Pipeline(steps=[(&#x27;ccaencoder&#x27;, CCAEncoder()),\n                (&#x27;columntransformer&#x27;,\n                 ColumnTransformer(remainder=&#x27;passthrough&#x27;,\n                                   transformers=[(&#x27;drop_columns&#x27;, &#x27;drop&#x27;,\n                                                  [&#x27;sleep_time&#x27;, &#x27;wake_time&#x27;,\n                                                   &#x27;gender&#x27;, &#x27;student_id&#x27;,\n                                                   &#x27;age&#x27;, &#x27;tuition&#x27;,\n                                                   &#x27;direct_admission&#x27;,\n                                                   &#x27;learning_style&#x27;,\n                                                   &#x27;mode_of_transport&#x27;, &#x27;CCA&#x27;,\n                                                   &#x27;bag_color&#x27;])])),\n                (&#x27;standardscaler&#x27;, StandardScaler()),\n                (&#x27;randomforestregressor&#x27;, RandomForestRegressor(max_depth=10))])</pre></div></div></div><div class=\"sk-serial\"><div class=\"sk-item\"><div class=\"sk-estimator sk-toggleable\"><input class=\"sk-toggleable__control sk-hidden--visually\" id=\"sk-estimator-id-20\" type=\"checkbox\" ><label for=\"sk-estimator-id-20\" class=\"sk-toggleable__label sk-toggleable__label-arrow\">CCAEncoder</label><div class=\"sk-toggleable__content\"><pre>CCAEncoder()</pre></div></div></div><div class=\"sk-item sk-dashed-wrapped\"><div class=\"sk-label-container\"><div class=\"sk-label sk-toggleable\"><input class=\"sk-toggleable__control sk-hidden--visually\" id=\"sk-estimator-id-21\" type=\"checkbox\" ><label for=\"sk-estimator-id-21\" class=\"sk-toggleable__label sk-toggleable__label-arrow\">columntransformer: ColumnTransformer</label><div class=\"sk-toggleable__content\"><pre>ColumnTransformer(remainder=&#x27;passthrough&#x27;,\n                  transformers=[(&#x27;drop_columns&#x27;, &#x27;drop&#x27;,\n                                 [&#x27;sleep_time&#x27;, &#x27;wake_time&#x27;, &#x27;gender&#x27;,\n                                  &#x27;student_id&#x27;, &#x27;age&#x27;, &#x27;tuition&#x27;,\n                                  &#x27;direct_admission&#x27;, &#x27;learning_style&#x27;,\n                                  &#x27;mode_of_transport&#x27;, &#x27;CCA&#x27;, &#x27;bag_color&#x27;])])</pre></div></div></div><div class=\"sk-parallel\"><div class=\"sk-parallel-item\"><div class=\"sk-item\"><div class=\"sk-label-container\"><div class=\"sk-label sk-toggleable\"><input class=\"sk-toggleable__control sk-hidden--visually\" id=\"sk-estimator-id-22\" type=\"checkbox\" ><label for=\"sk-estimator-id-22\" class=\"sk-toggleable__label sk-toggleable__label-arrow\">drop_columns</label><div class=\"sk-toggleable__content\"><pre>[&#x27;sleep_time&#x27;, &#x27;wake_time&#x27;, &#x27;gender&#x27;, &#x27;student_id&#x27;, &#x27;age&#x27;, &#x27;tuition&#x27;, &#x27;direct_admission&#x27;, &#x27;learning_style&#x27;, &#x27;mode_of_transport&#x27;, &#x27;CCA&#x27;, &#x27;bag_color&#x27;]</pre></div></div></div><div class=\"sk-serial\"><div class=\"sk-item\"><div class=\"sk-estimator sk-toggleable\"><input class=\"sk-toggleable__control sk-hidden--visually\" id=\"sk-estimator-id-23\" type=\"checkbox\" ><label for=\"sk-estimator-id-23\" class=\"sk-toggleable__label sk-toggleable__label-arrow\">drop</label><div class=\"sk-toggleable__content\"><pre>drop</pre></div></div></div></div></div></div><div class=\"sk-parallel-item\"><div class=\"sk-item\"><div class=\"sk-label-container\"><div class=\"sk-label sk-toggleable\"><input class=\"sk-toggleable__control sk-hidden--visually\" id=\"sk-estimator-id-24\" type=\"checkbox\" ><label for=\"sk-estimator-id-24\" class=\"sk-toggleable__label sk-toggleable__label-arrow\">remainder</label><div class=\"sk-toggleable__content\"><pre>[&#x27;index&#x27;, &#x27;number_of_siblings&#x27;, &#x27;n_male&#x27;, &#x27;n_female&#x27;, &#x27;hours_per_week&#x27;, &#x27;attendance_rate&#x27;, &#x27;CCA_O&#x27;, &#x27;learning_style_visual&#x27;, &#x27;tuition_Yes&#x27;, &#x27;direct&#x27;]</pre></div></div></div><div class=\"sk-serial\"><div class=\"sk-item\"><div class=\"sk-estimator sk-toggleable\"><input class=\"sk-toggleable__control sk-hidden--visually\" id=\"sk-estimator-id-25\" type=\"checkbox\" ><label for=\"sk-estimator-id-25\" class=\"sk-toggleable__label sk-toggleable__label-arrow\">passthrough</label><div class=\"sk-toggleable__content\"><pre>passthrough</pre></div></div></div></div></div></div></div></div><div class=\"sk-item\"><div class=\"sk-estimator sk-toggleable\"><input class=\"sk-toggleable__control sk-hidden--visually\" id=\"sk-estimator-id-26\" type=\"checkbox\" ><label for=\"sk-estimator-id-26\" class=\"sk-toggleable__label sk-toggleable__label-arrow\">StandardScaler</label><div class=\"sk-toggleable__content\"><pre>StandardScaler()</pre></div></div></div><div class=\"sk-item\"><div class=\"sk-estimator sk-toggleable\"><input class=\"sk-toggleable__control sk-hidden--visually\" id=\"sk-estimator-id-27\" type=\"checkbox\" ><label for=\"sk-estimator-id-27\" class=\"sk-toggleable__label sk-toggleable__label-arrow\">RandomForestRegressor</label><div class=\"sk-toggleable__content\"><pre>RandomForestRegressor(max_depth=10)</pre></div></div></div></div></div></div></div>"
     },
     "execution_count": 26,
     "metadata": {},
     "output_type": "execute_result"
    }
   ],
   "source": [
    "model_pipe2 = joblib.load(\"model_pipe.joblib\")\n",
    "model_pipe2"
   ]
  },
  {
   "cell_type": "code",
   "execution_count": 27,
   "metadata": {
    "ExecuteTime": {
     "end_time": "2024-02-20T06:32:38.528486Z",
     "start_time": "2024-02-20T06:32:38.447933Z"
    }
   },
   "outputs": [
    {
     "name": "stdout",
     "output_type": "stream",
     "text": [
      "Variable                        Type                 Data/Info\n",
      "--------------------------------------------------------------\n",
      "BaseEstimator                   type                 <class 'sklearn.base.BaseEstimator'>\n",
      "CCAEncoder                      type                 <class '__main__.CCAEncoder'>\n",
      "ColumnTransformer               ABCMeta              <class 'sklearn.compose._<...>ormer.ColumnTransformer'>\n",
      "ConfigParser                    ABCMeta              <class 'configparser.ConfigParser'>\n",
      "DecisionTreeClassifier          ABCMeta              <class 'sklearn.tree._cla<...>.DecisionTreeClassifier'>\n",
      "Enum                            EnumMeta             <enum 'Enum'>\n",
      "LinearRegression                ABCMeta              <class 'sklearn.linear_mo<...>._base.LinearRegression'>\n",
      "LogisticRegression              type                 <class 'sklearn.linear_mo<...>stic.LogisticRegression'>\n",
      "Pipeline                        ABCMeta              <class 'sklearn.pipeline.Pipeline'>\n",
      "RandomForestRegressor           ABCMeta              <class 'sklearn.ensemble.<...>t.RandomForestRegressor'>\n",
      "SimpleImputer                   type                 <class 'sklearn.impute._base.SimpleImputer'>\n",
      "StandardScaler                  type                 <class 'sklearn.preproces<...>ng._data.StandardScaler'>\n",
      "X                               DataFrame                        index  number<...>[13885 rows x 20 columns]\n",
      "X_index                         DataFrame                  student_id\\n0      <...>n[13885 rows x 1 columns]\n",
      "X_test                          DataFrame                   index  number_of_s<...>n[2777 rows x 21 columns]\n",
      "X_train                         DataFrame                   index  number_of_s<...>[11108 rows x 21 columns]\n",
      "ce                              module               <module 'category_encoder<...>ry_encoders/__init__.py'>\n",
      "config                          ConfigParser         <configparser.ConfigParse<...>object at 0x7f8d6780c520>\n",
      "config_file_path                str                  config.ini\n",
      "configparser                    module               <module 'configparser' fr<...>thon3.8/configparser.py'>\n",
      "db_name                         str                  score.db\n",
      "df                              DataFrame                   index  number_of_s<...>[13885 rows x 18 columns]\n",
      "df1                             DataFrame                   index  number_of_s<...>[13885 rows x 18 columns]\n",
      "dt                              module               <module 'datetime' from '<...>b/python3.8/datetime.py'>\n",
      "engine                          Engine               Engine(sqlite:///score.db)\n",
      "file_path                       str                  C:\\Users\\hclee\\Desktop\\prediction.csv\n",
      "get_url_from_user               function             <function get_url_from_user at 0x7f8d51cbae50>\n",
      "imputer                         SimpleImputer        SimpleImputer()\n",
      "joblib                          module               <module 'joblib' from '/U<...>ages/joblib/__init__.py'>\n",
      "make_pipeline                   function             <function make_pipeline at 0x7f8d6ed07310>\n",
      "math                            module               <module 'math' from '/Use<...>th.cpython-38-darwin.so'>\n",
      "mean_squared_error              function             <function mean_squared_error at 0x7f8d6ecc6ca0>\n",
      "metrics                         module               <module 'sklearn.metrics'<...>arn/metrics/__init__.py'>\n",
      "model_pipe                      Pipeline             Pipeline(steps=[('ccaenco<...>egressor(max_depth=10))])\n",
      "model_pipe2                     Pipeline             Pipeline(steps=[('ccaenco<...>egressor(max_depth=10))])\n",
      "norm                            norm_gen             <scipy.stats._continuous_<...>object at 0x7f8d6d26ceb0>\n",
      "np                              module               <module 'numpy' from '/Us<...>kages/numpy/__init__.py'>\n",
      "pd                              module               <module 'pandas' from '/U<...>ages/pandas/__init__.py'>\n",
      "pre_process                     ColumnTransformer    ColumnTransformer(remaind<...>', 'CCA', 'bag_color'])])\n",
      "predict_pipe                    Pipeline             Pipeline(steps=[('ccaenco<...>     ('nonetype', None)])\n",
      "predict_url                     str                  https://techassessment.bl<...>aratory-bootcamp/score.db\n",
      "preprocessing                   module               <module 'sklearn.preproce<...>eprocessing/__init__.py'>\n",
      "pydev_jupyter_vars              module               <module 'pydev_jupyter_va<...>g/pydev_jupyter_vars.py'>\n",
      "r2_score                        function             <function r2_score at 0x7f8d6ecd01f0>\n",
      "r2_score_test                   float64              0.7027147095628208\n",
      "read_config_file                function             <function read_config_file at 0x7f8d677fa940>\n",
      "remove_imported_pydev_package   function             <function remove_imported<...>ackage at 0x7f8d677fa280>\n",
      "requests                        module               <module 'requests' from '<...>es/requests/__init__.py'>\n",
      "response                        Response             <Response [200]>\n",
      "rmse_test                       float64              7.654604936824956\n",
      "score_data                      Connection           <sqlite3.Connection object at 0x7f8d50b89210>\n",
      "sm                              module               <module 'statsmodels.api'<...>ages/statsmodels/api.py'>\n",
      "sqlalchemy                      module               <module 'sqlalchemy' from<...>/sqlalchemy/__init__.py'>\n",
      "sqlite3                         module               <module 'sqlite3' from '/<...>3.8/sqlite3/__init__.py'>\n",
      "stats                           module               <module 'scipy.stats' fro<...>scipy/stats/__init__.py'>\n",
      "svm                             module               <module 'sklearn.svm' fro<...>sklearn/svm/__init__.py'>\n",
      "sys                             module               <module 'sys' (built-in)>\n",
      "table_name                      str                  score\n",
      "train_test_split                function             <function train_test_split at 0x7f8d6edc6310>\n",
      "train_url                       str                  https://techassessment.bl<...>aratory-bootcamp/score.db\n",
      "user_url                        str                  https://techassessment.bl<...>aratory-bootcamp/score.db\n",
      "warnings                        module               <module 'warnings' from '<...>b/python3.8/warnings.py'>\n",
      "y                               DataFrame                   final_test\\n0     <...>n[13885 rows x 1 columns]\n",
      "y_df                            DataFrame                  student_id         <...>n[13885 rows x 2 columns]\n",
      "y_df_final                      DataFrame                  student_id         <...>n[13885 rows x 2 columns]\n",
      "y_p                             DataFrame                           0\\n0      <...>n[13885 rows x 1 columns]\n",
      "y_pred                          ndarray              2777: 2777 elems, type `float64`, 22216 bytes\n",
      "y_prediction                    ndarray              13885: 13885 elems, type `float64`, 111080 bytes (108.4765625 kb)\n",
      "y_test                          DataFrame                   final_test\\n10838 <...>\\n[2777 rows x 1 columns]\n",
      "y_train                         DataFrame                   final_test\\n12953 <...>n[11108 rows x 1 columns]\n"
     ]
    }
   ],
   "source": [
    "# %whos"
   ]
  },
  {
   "cell_type": "code",
   "execution_count": null,
   "metadata": {},
   "outputs": [],
   "source": []
  }
 ],
 "metadata": {
  "kernelspec": {
   "display_name": "Python 3 (ipykernel)",
   "language": "python",
   "name": "python3"
  },
  "language_info": {
   "codemirror_mode": {
    "name": "ipython",
    "version": 3
   },
   "file_extension": ".py",
   "mimetype": "text/x-python",
   "name": "python",
   "nbconvert_exporter": "python",
   "pygments_lexer": "ipython3",
   "version": "3.11.3"
  },
  "pycharm": {
   "stem_cell": {
    "cell_type": "raw",
    "metadata": {
     "collapsed": false
    },
    "source": []
   }
  }
 },
 "nbformat": 4,
 "nbformat_minor": 1
}
